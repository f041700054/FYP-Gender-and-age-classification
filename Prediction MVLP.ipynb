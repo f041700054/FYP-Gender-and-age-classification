{
 "cells": [
  {
   "cell_type": "code",
   "execution_count": 2,
   "metadata": {},
   "outputs": [],
   "source": [
    "import pandas as pd\n",
    "import matplotlib.pyplot as plt\n",
    "import numpy as np\n",
    "import os\n",
    "import cv2\n",
    "import csv\n",
    "import tensorflow as tf\n",
    "import timeit\n",
    "import math\n",
    "from sympy import limit, Symbol\n",
    "from tensorflow.keras.utils import to_categorical\n",
    "from pandas import DataFrame\n",
    "from copy import copy, deepcopy\n",
    "from beautifultable import BeautifulTable\n"
   ]
  },
  {
   "cell_type": "code",
   "execution_count": 4,
   "metadata": {},
   "outputs": [],
   "source": [
    "class Person:\n",
    "    def __init__(self, id, filename, img, gender, age, angle):\n",
    "        self.id = id\n",
    "        self.filename = filename\n",
    "        self.img = img\n",
    "        self.gender = gender\n",
    "        self.age = age\n",
    "        self.angle = angle\n",
    "        self.guessGender = 0\n",
    "        self.guessAge = 0\n",
    "        self.guessAngle = 0\n",
    "        self.probability = 0\n",
    "        \n",
    "    def printAll(self):\n",
    "        print('ID: ', self.id,'\\n')\n",
    "        print('Angle: ', self.angle,' Guess Angle: ', self.guessAngle)\n",
    "        print('Gender: ', self.gender,' Guess Gender: ', self.guessGender)\n",
    "        print('Age: ', self.age,' Guess Age: ', self.guessAge,'\\n')"
   ]
  },
  {
   "cell_type": "code",
   "execution_count": 5,
   "metadata": {},
   "outputs": [],
   "source": [
    "category_angle = [0, 15, 30, 45, 60, 75, 90, 180, 195, 210, 225, 240, 255, 270]\n",
    "category_gender = [\"F\",\"M\"]"
   ]
  },
  {
   "cell_type": "code",
   "execution_count": null,
   "metadata": {},
   "outputs": [],
   "source": []
  },
  {
   "cell_type": "code",
   "execution_count": 6,
   "metadata": {},
   "outputs": [],
   "source": [
    "%matplotlib inline\n",
    "\n",
    "df = pd.read_csv('subject_info_OUMVLP.csv')"
   ]
  },
  {
   "cell_type": "code",
   "execution_count": 7,
   "metadata": {},
   "outputs": [],
   "source": [
    "id_train = np.loadtxt(\"IDList_train_OUMVLP.txt\", dtype='int32')"
   ]
  },
  {
   "cell_type": "code",
   "execution_count": 8,
   "metadata": {},
   "outputs": [
    {
     "name": "stdout",
     "output_type": "stream",
     "text": [
      "10307\r"
     ]
    }
   ],
   "source": [
    "# The dir stored GEIs\n",
    "datadir = r\"C:/Users/Acer/FYP/GEI_OUMVLP/\"\n",
    "files = os.listdir(datadir)\n",
    "\n",
    "all_people = []\n",
    "\n",
    "df.ID = df.ID.astype(str)\n",
    "for index, data in df.iterrows():\n",
    "    id = (5-len(data.ID))*'0' + data.ID\n",
    "    gender = 1 if data.gender == 'M' else 0\n",
    "    age = data.age\n",
    "    if age == '-':\n",
    "        age = '-'\n",
    "    else:\n",
    "        age = int(age)\n",
    "    \n",
    "    temp_id_list = []\n",
    "    for file in files:\n",
    "        angle = int(file.split('-')[0])\n",
    "        sequence = int(file.split('-')[1])\n",
    "        \n",
    "        if sequence == 1:\n",
    "            if id in temp_id_list :\n",
    "                temp_id_list = []\n",
    "                continue\n",
    "            temp_id_list = []\n",
    "        \n",
    "        filename = datadir + file + '/' + id + '.png'\n",
    "        img = cv2.imread(filename, cv2.IMREAD_GRAYSCALE)\n",
    "        if type(img) == type(None):\n",
    "            continue\n",
    "        \n",
    "        p = Person(id, filename, img, gender, age, angle)\n",
    "        all_people.append(p)\n",
    "        temp_id_list.append(id)\n",
    "        print (id, end=\"\\r\")\n"
   ]
  },
  {
   "cell_type": "code",
   "execution_count": 9,
   "metadata": {},
   "outputs": [],
   "source": [
    "people_train = []\n",
    "people_test = []\n",
    "\n",
    "for p in all_people:\n",
    "    if int(p.id) in id_train:\n",
    "        people_train.append(p)\n",
    "    else:\n",
    "        people_test.append(p)\n",
    "        \n",
    "height, width = all_people[0].img.shape"
   ]
  },
  {
   "cell_type": "code",
   "execution_count": 27,
   "metadata": {},
   "outputs": [],
   "source": [
    "all_people_with_angle = {}\n",
    "\n",
    "for p in all_people:\n",
    "    if p.angle not in all_people_with_angle:\n",
    "        all_people_with_angle[p.angle] = []\n",
    "    all_people_with_angle[p.angle].append(p)"
   ]
  },
  {
   "cell_type": "code",
   "execution_count": null,
   "metadata": {},
   "outputs": [],
   "source": []
  },
  {
   "cell_type": "markdown",
   "metadata": {},
   "source": [
    "# Load all the trained block"
   ]
  },
  {
   "cell_type": "code",
   "execution_count": 4,
   "metadata": {},
   "outputs": [],
   "source": [
    "with tf.device('CPU:0'):\n",
    "    block_angle = tf.keras.models.load_model('model_MVLP2/MVLP_angle.h5')\n",
    "    block_gender_0_180 = tf.keras.models.load_model('model_MVLP2/MVLP_gender_0_180.h5')\n",
    "    block_age_F_0_180 = tf.keras.models.load_model('model_MVLP2/MVLP_age_F_0_180.h5')\n",
    "    block_age_M_0_180 = tf.keras.models.load_model('model_MVLP2/MVLP_age_M_0_180.h5')\n",
    "\n",
    "    block_gender_15_195 = tf.keras.models.load_model('model_MVLP2/MVLP_gender_15_195.h5')\n",
    "    block_age_F_15_195 = tf.keras.models.load_model('model_MVLP2/MVLP_age_F_15_195.h5')\n",
    "    block_age_M_15_195 = tf.keras.models.load_model('model_MVLP2/MVLP_age_M_15_195.h5')\n",
    "\n",
    "    block_gender_30_45 = tf.keras.models.load_model('model_MVLP2/MVLP_gender_30_45.h5')\n",
    "    block_age_F_30_45 = tf.keras.models.load_model('model_MVLP2/MVLP_age_F_30_45.h5')\n",
    "    block_age_M_30_45 = tf.keras.models.load_model('model_MVLP2/MVLP_age_M_30_45.h5')\n",
    "\n",
    "    block_gender_60_75_90 = tf.keras.models.load_model('model_MVLP2/MVLP_gender_60_75_90.h5')\n",
    "    block_age_F_60_75_90 = tf.keras.models.load_model('model_MVLP2/MVLP_age_F_60_75_90.h5')\n",
    "    block_age_M__60_75_90 = tf.keras.models.load_model('model_MVLP2/MVLP_age_M_60_75_90.h5')\n",
    "\n",
    "    block_gender_210_225 = tf.keras.models.load_model('model_MVLP2/MVLP_gender_210_225.h5')\n",
    "    block_age_F_210_225 = tf.keras.models.load_model('model_MVLP2/MVLP_age_F_210_225.h5')\n",
    "    block_age_M_210_225 = tf.keras.models.load_model('model_MVLP2/MVLP_age_M_210_225.h5')\n",
    "\n",
    "    block_gender_240_255_270 = tf.keras.models.load_model('model_MVLP2/MVLP_gender_240_255_270.h5')\n",
    "    block_age_F_240_255_270 = tf.keras.models.load_model('model_MVLP2/MVLP_age_F_240_255_270.h5')\n",
    "    block_age_M_240_255_270 = tf.keras.models.load_model('model_MVLP2/MVLP_age_M_240_255_270.h5')"
   ]
  },
  {
   "cell_type": "code",
   "execution_count": 5,
   "metadata": {},
   "outputs": [],
   "source": [
    "MVLP_model = {}\n",
    "\n",
    "MVLP_model = {'model':block_angle}\n",
    "MVLP_model[0,180] = {'model':block_gender_0_180, 0:block_age_F_0_180, 1:block_age_M_0_180}\n",
    "MVLP_model[15,195] = {'model':block_gender_15_195, 0:block_age_F_15_195, 1:block_age_M_15_195}\n",
    "MVLP_model[30,45] = {'model':block_gender_30_45, 0:block_age_F_30_45, 1:block_age_M_30_45}\n",
    "MVLP_model[60,75,90] = {'model':block_gender_60_75_90, 0:block_age_F_60_75_90, 1:block_age_M__60_75_90}\n",
    "MVLP_model[210,225] = {'model':block_gender_210_225, 0:block_age_F_210_225, 1:block_age_M_210_225}\n",
    "MVLP_model[240,255,270] = {'model':block_gender_240_255_270, 0:block_age_F_240_255_270, 1:block_age_M_240_255_270}\n",
    "\n"
   ]
  },
  {
   "cell_type": "code",
   "execution_count": 6,
   "metadata": {},
   "outputs": [
    {
     "name": "stdout",
     "output_type": "stream",
     "text": [
      "dict_keys(['model', 0, 180, 15, 195, 30, 45, 60, 75, 90, 210, 225, 240, 255, 270])\n"
     ]
    }
   ],
   "source": [
    "temp = {}\n",
    "\n",
    "for ks in MVLP_model:\n",
    "    if type(ks) == type(tuple()):\n",
    "        for k in ks:\n",
    "            temp[k] = MVLP_model[ks]\n",
    "    else:\n",
    "        temp[ks] = MVLP_model[ks]\n",
    "\n",
    "MVLP_model = temp\n",
    "del temp\n",
    "print(MVLP_model.keys())\n",
    "            "
   ]
  },
  {
   "cell_type": "code",
   "execution_count": null,
   "metadata": {},
   "outputs": [],
   "source": []
  },
  {
   "cell_type": "markdown",
   "metadata": {},
   "source": [
    "# Predict the GEIs"
   ]
  },
  {
   "cell_type": "code",
   "execution_count": null,
   "metadata": {},
   "outputs": [],
   "source": [
    "with tf.device(\"CPU:0\"):\n",
    "    start = timeit.default_timer()\n",
    "    for p in all_people:\n",
    "        img = np.array(p.img).reshape(-1, height, width, 1)\n",
    "        predict_angle = MVLP_model['model'].predict(img)\n",
    "        p.guessAngle = category_angle[np.argmax(predict_angle)]\n",
    "\n",
    "        predict_gender = MVLP_model[p.guessAngle]['model'].predict(img)\n",
    "        p.guessGender = np.argmax(predict_gender)\n",
    "\n",
    "        if p.age != '-':\n",
    "            predict_age = MVLP_model[p.guessAngle][p.guessGender].predict(img)\n",
    "            p.guessAge = np.argmax(predict_age)+2\n",
    "\n",
    "        b = \"ID: \"+ p.id + \" Guess: \" + str(p.guessAngle) + \"  \" + category_gender[p.guessGender] + \" \" + str(p.guessAge) + \" year-old                                 \"\n",
    "        print (b, end=\"\\r\")\n",
    "\n",
    "    stop = timeit.default_timer()"
   ]
  },
  {
   "cell_type": "code",
   "execution_count": null,
   "metadata": {},
   "outputs": [],
   "source": [
    "s = stop - start\n",
    "hours = ((stop - start)/60)/60\n",
    "mins = hours*60 - int(hours)*60\n",
    "\n",
    "print('Prediction Time: ', round(hours), 'hours', round(mins), 'mins')"
   ]
  },
  {
   "cell_type": "code",
   "execution_count": null,
   "metadata": {},
   "outputs": [],
   "source": [
    "#Prediction Time:  5 hours 25 mins"
   ]
  },
  {
   "cell_type": "code",
   "execution_count": null,
   "metadata": {},
   "outputs": [],
   "source": []
  },
  {
   "cell_type": "markdown",
   "metadata": {},
   "source": [
    "# Saving results to a .csv file"
   ]
  },
  {
   "cell_type": "code",
   "execution_count": null,
   "metadata": {},
   "outputs": [],
   "source": [
    "# Filtering the age with '-'\n",
    "\n",
    "for p in all_people:\n",
    "    if p.age == '-':\n",
    "        p.guessAge = '-'\n",
    "        "
   ]
  },
  {
   "cell_type": "code",
   "execution_count": null,
   "metadata": {},
   "outputs": [],
   "source": [
    "col = ['id', 'filename', 'gender', 'age', 'angle', 'guessGender', 'guessAge', 'guessAngle', 'probability']\n",
    "pred_prople = []\n",
    "for p in all_people:\n",
    "    filename = p.filename.split('/FYP/')[1]\n",
    "    pred_prople.append([p.id,filename,p.gender,p.age,p.angle,p.guessGender,p.guessAge,p.guessAngle])\n",
    "\n",
    "df_pred_prople = DataFrame(pred_prople, columns = col)"
   ]
  },
  {
   "cell_type": "code",
   "execution_count": null,
   "metadata": {},
   "outputs": [],
   "source": [
    "df_pred_prople.to_csv('model_MVLP2/Predicted_Result_MVLP.csv',index=0)"
   ]
  },
  {
   "cell_type": "code",
   "execution_count": null,
   "metadata": {},
   "outputs": [],
   "source": []
  },
  {
   "cell_type": "markdown",
   "metadata": {},
   "source": [
    "# Truth table of angle"
   ]
  },
  {
   "cell_type": "code",
   "execution_count": 16,
   "metadata": {},
   "outputs": [],
   "source": [
    "truth_table_angle = {}\n",
    "df_angle = []\n",
    "total = [0] * (len(category_angle) + 1)\n",
    "\n",
    "for c in category_angle:\n",
    "    truth_table_angle[c] = {}\n",
    "    for c2 in category_angle:\n",
    "        truth_table_angle[c][c2] = 0\n",
    "        \n",
    "for p in people_test:\n",
    "    truth_table_angle[p.guessAngle][p.angle]+=1\n",
    "\n",
    "for angle in truth_table_angle:\n",
    "    temp = []\n",
    "    index = 0\n",
    "    count = 0\n",
    "    for key in truth_table_angle[angle]:\n",
    "        temp.append(truth_table_angle[angle][key])\n",
    "        count+=truth_table_angle[angle][key]\n",
    "        total[index]+=truth_table_angle[angle][key]\n",
    "        index+=1\n",
    "    total[len(total) - 1]+=count\n",
    "    temp.append(count)\n",
    "    df_angle.append(temp)\n",
    "df_angle.append(total)"
   ]
  },
  {
   "cell_type": "code",
   "execution_count": 17,
   "metadata": {},
   "outputs": [
    {
     "name": "stdout",
     "output_type": "stream",
     "text": [
      "+-----------+------+------+------+------+------+------+------+------+------+------+------+------+------+------+-------+\n",
      "| Truth --> |  0   |  15  |  30  |  45  |  60  |  75  |  90  | 180  | 195  | 210  | 225  | 240  | 255  | 270  | Total |\n",
      "|           |      |      |      |      |      |      |      |      |      |      |      |      |      |      |       |\n",
      "|  Predict  |      |      |      |      |      |      |      |      |      |      |      |      |      |      |       |\n",
      "+-----------+------+------+------+------+------+------+------+------+------+------+------+------+------+------+-------+\n",
      "|     0     | 4655 |  4   |  0   |  0   |  0   |  0   |  1   |  57  |  0   |  0   |  0   |  0   |  0   |  0   | 4717  |\n",
      "+-----------+------+------+------+------+------+------+------+------+------+------+------+------+------+------+-------+\n",
      "|    15     |  7   | 4790 |  8   |  1   |  0   |  0   |  0   |  4   |  6   |  0   |  0   |  0   |  0   |  0   | 4816  |\n",
      "+-----------+------+------+------+------+------+------+------+------+------+------+------+------+------+------+-------+\n",
      "|    30     |  0   |  21  | 4977 |  7   |  0   |  0   |  0   |  0   |  0   |  1   |  0   |  0   |  0   |  0   | 5006  |\n",
      "+-----------+------+------+------+------+------+------+------+------+------+------+------+------+------+------+-------+\n",
      "|    45     |  0   |  0   |  42  | 4993 |  7   |  0   |  0   |  0   |  0   |  1   |  1   |  1   |  0   |  0   | 5045  |\n",
      "+-----------+------+------+------+------+------+------+------+------+------+------+------+------+------+------+-------+\n",
      "|    60     |  0   |  0   |  0   |  21  | 4728 |  70  |  1   |  0   |  0   |  0   |  0   |  1   |  0   |  0   | 4821  |\n",
      "+-----------+------+------+------+------+------+------+------+------+------+------+------+------+------+------+-------+\n",
      "|    75     |  0   |  0   |  0   |  1   |  10  | 4988 |  40  |  0   |  0   |  0   |  0   |  0   |  0   |  0   | 5039  |\n",
      "+-----------+------+------+------+------+------+------+------+------+------+------+------+------+------+------+-------+\n",
      "|    90     |  0   |  0   |  0   |  0   |  0   |  19  | 4996 |  0   |  0   |  0   |  0   |  0   |  0   |  1   | 5016  |\n",
      "+-----------+------+------+------+------+------+------+------+------+------+------+------+------+------+------+-------+\n",
      "|    180    |  61  |  0   |  0   |  0   |  0   |  0   |  0   | 4632 |  6   |  0   |  0   |  0   |  0   |  0   | 4699  |\n",
      "+-----------+------+------+------+------+------+------+------+------+------+------+------+------+------+------+-------+\n",
      "|    195    |  4   |  22  |  0   |  0   |  0   |  0   |  0   |  4   | 4842 |  10  |  0   |  0   |  0   |  0   | 4882  |\n",
      "+-----------+------+------+------+------+------+------+------+------+------+------+------+------+------+------+-------+\n",
      "|    210    |  0   |  0   |  5   |  2   |  0   |  0   |  0   |  0   |  15  | 5040 |  7   |  0   |  0   |  0   | 5069  |\n",
      "+-----------+------+------+------+------+------+------+------+------+------+------+------+------+------+------+-------+\n",
      "|    225    |  0   |  1   |  0   |  3   |  0   |  0   |  0   |  0   |  0   |  8   | 5010 |  6   |  1   |  0   | 5029  |\n",
      "+-----------+------+------+------+------+------+------+------+------+------+------+------+------+------+------+-------+\n",
      "|    240    |  0   |  0   |  0   |  0   |  2   |  1   |  0   |  0   |  0   |  0   |  27  | 4722 |  39  |  1   | 4792  |\n",
      "+-----------+------+------+------+------+------+------+------+------+------+------+------+------+------+------+-------+\n",
      "|    255    |  0   |  0   |  0   |  0   |  0   |  1   |  0   |  0   |  0   |  0   |  0   |  14  | 5041 |  22  | 5078  |\n",
      "+-----------+------+------+------+------+------+------+------+------+------+------+------+------+------+------+-------+\n",
      "|    270    |  0   |  0   |  0   |  0   |  0   |  0   |  1   |  0   |  0   |  0   |  0   |  1   |  15  | 4989 | 5006  |\n",
      "+-----------+------+------+------+------+------+------+------+------+------+------+------+------+------+------+-------+\n",
      "|   Total   | 4727 | 4838 | 5032 | 5028 | 4747 | 5079 | 5039 | 4697 | 4869 | 5060 | 5045 | 4745 | 5096 | 5013 | 69015 |\n",
      "+-----------+------+------+------+------+------+------+------+------+------+------+------+------+------+------+-------+\n"
     ]
    }
   ],
   "source": [
    "columns = deepcopy(category_angle)\n",
    "columns.insert(0,'Truth -->\\n\\nPredict')\n",
    "columns.append('Total')\n",
    "for i in range(0, len(columns)):\n",
    "    columns[i] = str(columns[i])\n",
    "\n",
    "table = BeautifulTable()\n",
    "table.columns.header = columns\n",
    "for i in range(0,len(df_angle)):\n",
    "    df_angle[i].insert(0,columns[i+1])\n",
    "    table.rows.append(df_angle[i])\n",
    "\n",
    "table.maxwidth = 150\n",
    "print(table)"
   ]
  },
  {
   "cell_type": "code",
   "execution_count": null,
   "metadata": {},
   "outputs": [],
   "source": []
  },
  {
   "cell_type": "markdown",
   "metadata": {},
   "source": [
    "# Truth table of gender"
   ]
  },
  {
   "cell_type": "code",
   "execution_count": 23,
   "metadata": {},
   "outputs": [],
   "source": [
    "truth_table_gender = {}\n",
    "df_gender = []\n",
    "total = [0] * (len(category_gender) + 1)\n",
    "\n",
    "for c in category_gender:\n",
    "    truth_table_gender[c] = {}\n",
    "    for c2 in category_gender:\n",
    "        truth_table_gender[c][c2] = 0\n",
    "        \n",
    "for p in all_people:\n",
    "    truth_table_gender[category_gender[p.gender]][category_gender[p.guessGender]]+=1\n",
    "\n",
    "for gender in truth_table_gender:\n",
    "    temp = []\n",
    "    index = 0\n",
    "    count = 0\n",
    "    for key in truth_table_gender[gender]:\n",
    "        temp.append(truth_table_gender[gender][key])\n",
    "        count+=truth_table_gender[gender][key]\n",
    "        total[index]+=truth_table_gender[gender][key]\n",
    "        index+=1\n",
    "    total[len(total) - 1]+=count\n",
    "    temp.append(count)\n",
    "    df_gender.append(temp)\n",
    "df_gender.append(total)"
   ]
  },
  {
   "cell_type": "code",
   "execution_count": 25,
   "metadata": {},
   "outputs": [
    {
     "name": "stdout",
     "output_type": "stream",
     "text": [
      "+-----------+-------+-------+--------+\n",
      "| Truth --> |   F   |   M   | Total  |\n",
      "|           |       |       |        |\n",
      "|  Predict  |       |       |        |\n",
      "+-----------+-------+-------+--------+\n",
      "|     F     | 67923 | 1804  | 69727  |\n",
      "+-----------+-------+-------+--------+\n",
      "|     M     | 1500  | 66587 | 68087  |\n",
      "+-----------+-------+-------+--------+\n",
      "|   Total   | 69423 | 68391 | 137814 |\n",
      "+-----------+-------+-------+--------+\n"
     ]
    }
   ],
   "source": [
    "columns = deepcopy(category_gender)\n",
    "columns.insert(0,'Truth -->\\n\\nPredict')\n",
    "columns.append('Total')\n",
    "for i in range(0, len(columns)):\n",
    "    columns[i] = str(columns[i])\n",
    "\n",
    "table = BeautifulTable()\n",
    "table.columns.header = columns\n",
    "for i in range(0,len(df_gender)):\n",
    "    df_gender[i].insert(0,columns[i+1])\n",
    "    table.rows.append(df_gender[i])\n",
    "\n",
    "table.maxwidth = 150\n",
    "print(table)"
   ]
  },
  {
   "cell_type": "code",
   "execution_count": null,
   "metadata": {},
   "outputs": [],
   "source": []
  },
  {
   "cell_type": "markdown",
   "metadata": {},
   "source": [
    "# Eveluate age"
   ]
  },
  {
   "cell_type": "code",
   "execution_count": 28,
   "metadata": {},
   "outputs": [],
   "source": [
    "people_with_value_age = {}\n",
    "for angle in all_people_with_angle:\n",
    "    people_with_value_age[angle] = []\n",
    "    for p in all_people_with_angle[angle]:\n",
    "        if p.age != \"-\":\n",
    "            people_with_value_age[angle].append(p)"
   ]
  },
  {
   "cell_type": "code",
   "execution_count": 29,
   "metadata": {},
   "outputs": [],
   "source": [
    "MAE = {}\n",
    "MAE['angle']={}\n",
    "for c in category:\n",
    "    MAE['angle'][c]=0\n"
   ]
  },
  {
   "cell_type": "code",
   "execution_count": 30,
   "metadata": {},
   "outputs": [],
   "source": [
    "for c in people_with_value_age:\n",
    "    for p in people_with_value_age[c]:\n",
    "        MAE['angle'][c]+=abs(int(p.age)-int(p.guessAge))\n",
    "    MAE['angle'][c] = round(MAE['angle'][c]/len(people_with_value_age[c]),2)"
   ]
  },
  {
   "cell_type": "code",
   "execution_count": 31,
   "metadata": {
    "scrolled": false
   },
   "outputs": [
    {
     "name": "stdout",
     "output_type": "stream",
     "text": [
      "{'angle': {0: 8.99, 15: 9.02, 30: 5.1, 45: 5.05, 60: 5.16, 75: 4.82, 90: 4.96, 180: 9.53, 195: 8.92, 210: 5.07, 225: 5.01, 240: 5.24, 255: 5.06, 270: 5.18, 'mean': 6.22}}\n"
     ]
    }
   ],
   "source": [
    "mean = 0\n",
    "for c in MAE['angle']:\n",
    "    mean += MAE['angle'][c]\n",
    "mean = round(mean/len(MAE['angle']),2)\n",
    "MAE['angle']['mean'] = mean\n",
    "print(MAE)"
   ]
  },
  {
   "cell_type": "code",
   "execution_count": 32,
   "metadata": {},
   "outputs": [
    {
     "name": "stdout",
     "output_type": "stream",
     "text": [
      "+-----+------+------+-----+------+------+------+------+------+------+------+------+------+------+------+------+\n",
      "|     |  0   |  15  | 30  |  45  |  60  |  75  |  90  | 180  | 195  | 210  | 225  | 240  | 255  | 270  | Mean |\n",
      "+-----+------+------+-----+------+------+------+------+------+------+------+------+------+------+------+------+\n",
      "| MAE | 8.99 | 9.02 | 5.1 | 5.05 | 5.16 | 4.82 | 4.96 | 9.53 | 8.92 | 5.07 | 5.01 | 5.24 | 5.06 | 5.18 | 6.22 |\n",
      "+-----+------+------+-----+------+------+------+------+------+------+------+------+------+------+------+------+\n"
     ]
    }
   ],
   "source": [
    "Metrics = []\n",
    "for key in MAE['angle']:\n",
    "    Metrics.append(MAE['angle'][key])\n",
    "\n",
    "columns = deepcopy(category)\n",
    "columns.append('Mean')\n",
    "for i in range(0, len(columns)):\n",
    "    columns[i] = str(columns[i])\n",
    "\n",
    "table = BeautifulTable()\n",
    "table.columns.header = columns\n",
    "table.rows.append(Metrics)\n",
    "table.rows.header = [\"MAE\"]\n",
    "table.maxwidth = 150\n",
    "print(table)"
   ]
  },
  {
   "cell_type": "code",
   "execution_count": null,
   "metadata": {},
   "outputs": [],
   "source": []
  },
  {
   "cell_type": "markdown",
   "metadata": {},
   "source": [
    "# Percentage of each results"
   ]
  },
  {
   "cell_type": "code",
   "execution_count": null,
   "metadata": {},
   "outputs": [],
   "source": [
    "corr_count_angle = 0\n",
    "corr_count_gender = 0\n",
    "corr_count_age = 0\n",
    "all_corr = 0\n",
    "\n",
    "for p in people_test:\n",
    "    count = 0\n",
    "    if p.angle == p.guessAngle:\n",
    "        corr_count_angle+=1\n",
    "        count+=1\n",
    "    \n",
    "    if p.gender == p.guessGender:\n",
    "        corr_count_gender+=1\n",
    "        count+=1\n",
    "    \n",
    "    if p.age == p.guessAge:\n",
    "        corr_count_age+=1\n",
    "        count+=1\n",
    "        \n",
    "    if count == 3:\n",
    "        all_corr+=1\n",
    "         \n",
    "acc_angle = corr_count_angle/len(people_test)\n",
    "acc_gender = corr_count_gender/len(people_test)\n",
    "acc_age = corr_count_age/len(people_test)\n",
    "acc_all = all_corr/len(people_test)\n",
    "avg_acc = (acc_angle+acc_gender+acc_age)/3\n"
   ]
  },
  {
   "cell_type": "code",
   "execution_count": null,
   "metadata": {},
   "outputs": [],
   "source": [
    "print(\"Accuracy of Predicting angle is: \" + str(round(acc_angle*100,2)) + '%')\n",
    "print(\"Accuracy of Predicting gender is: \" + str(round(acc_gender*100,2)) + '%')\n",
    "print(\"Accuracy of Predicting age is: \" + str(round(acc_age*100,2)) + '%','\\n')\n",
    "\n",
    "print(\"Accuracy of Three items passed at the same time: \" + str(round(acc_all*100,2)) + '%')\n",
    "print(\"The Average Accuracy: \" + str(round(avg_acc*100,2)) + '%')"
   ]
  },
  {
   "cell_type": "code",
   "execution_count": null,
   "metadata": {},
   "outputs": [],
   "source": []
  },
  {
   "cell_type": "markdown",
   "metadata": {},
   "source": [
    "# Calculate SD"
   ]
  },
  {
   "cell_type": "code",
   "execution_count": 39,
   "metadata": {},
   "outputs": [
    {
     "data": {
      "text/plain": [
       "float"
      ]
     },
     "execution_count": 39,
     "metadata": {},
     "output_type": "execute_result"
    }
   ],
   "source": [
    "type(MAE['angle']['mean'])"
   ]
  },
  {
   "cell_type": "code",
   "execution_count": 43,
   "metadata": {},
   "outputs": [],
   "source": [
    "sumation = 0\n",
    "for p in filted:\n",
    "    sumation+=(abs(int(p.age)-p.guessAge) - MAE['angle']['mean']) ** 2\n",
    "\n",
    "SD = math.sqrt(sumation/(len(all_people)-1))"
   ]
  },
  {
   "cell_type": "code",
   "execution_count": 44,
   "metadata": {},
   "outputs": [
    {
     "name": "stdout",
     "output_type": "stream",
     "text": [
      "10.358128437573736\n"
     ]
    }
   ],
   "source": [
    "print(SD)"
   ]
  },
  {
   "cell_type": "code",
   "execution_count": null,
   "metadata": {},
   "outputs": [],
   "source": []
  },
  {
   "cell_type": "markdown",
   "metadata": {},
   "source": [
    "# Calculate MCE"
   ]
  },
  {
   "cell_type": "code",
   "execution_count": 13,
   "metadata": {},
   "outputs": [
    {
     "data": {
      "text/plain": [
       "134951"
      ]
     },
     "execution_count": 13,
     "metadata": {},
     "output_type": "execute_result"
    }
   ],
   "source": [
    "len(filted)"
   ]
  },
  {
   "cell_type": "code",
   "execution_count": 14,
   "metadata": {},
   "outputs": [],
   "source": [
    "for p in filted:\n",
    "    p.age = int(p.age)\n",
    "    p.img = cv2.imread(p.filename, cv2.IMREAD_GRAYSCALE)\n",
    "    \n",
    "    \n",
    "    "
   ]
  },
  {
   "cell_type": "code",
   "execution_count": 15,
   "metadata": {},
   "outputs": [],
   "source": [
    "height, width = filted[0].img.shape"
   ]
  },
  {
   "cell_type": "code",
   "execution_count": 17,
   "metadata": {
    "scrolled": true
   },
   "outputs": [
    {
     "name": "stdout",
     "output_type": "stream",
     "text": [
      "10307 probability: 1.559615e-05                                   \r"
     ]
    }
   ],
   "source": [
    "start = timeit.default_timer()\n",
    "for p in filted:\n",
    "    img = np.array(p.img).reshape(-1, height, width, 1)\n",
    "    \n",
    "    predict_angle = MVLP_model['model'].predict(img)\n",
    "    ga = category_angle[np.argmax(predict_angle)]\n",
    "\n",
    "    predict_gender = MVLP_model[ga]['model'].predict(img)\n",
    "    gg = np.argmax(predict_gender)\n",
    "\n",
    "    predict_age = MVLP_model[ga][gg].predict(img)\n",
    "    p.probability = predict_age[0][p.age-2]\n",
    "\n",
    "    b = p.id + \" probability: \" + str(predict_age[0][p.age-2]) + \"                                 \"\n",
    "    print (b, end=\"\\r\")\n",
    "\n",
    "stop = timeit.default_timer()"
   ]
  },
  {
   "cell_type": "code",
   "execution_count": 18,
   "metadata": {
    "scrolled": true
   },
   "outputs": [
    {
     "name": "stdout",
     "output_type": "stream",
     "text": [
      "Prediction Time:  4 hours 19 mins\n"
     ]
    }
   ],
   "source": [
    "s = stop - start\n",
    "hours = ((stop - start)/60)/60\n",
    "mins = hours*60 - int(hours)*60\n",
    "\n",
    "print('Prediction Time: ', round(hours), 'hours', round(mins), 'mins')"
   ]
  },
  {
   "cell_type": "code",
   "execution_count": 113,
   "metadata": {},
   "outputs": [],
   "source": [
    "sumation = 0\n",
    "count = 0\n",
    "for proba in estimated_probability:\n",
    "    if proba == 0:\n",
    "        count+=1\n",
    "        continue\n",
    "    sumation+=math.log(proba,10)\n"
   ]
  },
  {
   "cell_type": "code",
   "execution_count": 115,
   "metadata": {},
   "outputs": [
    {
     "name": "stdout",
     "output_type": "stream",
     "text": [
      "30\n",
      "-1.9196574810141178\n"
     ]
    }
   ],
   "source": [
    "MCE = sumation/(len(estimated_probability)-count)\n",
    "print(count)\n",
    "print(MCE)"
   ]
  },
  {
   "cell_type": "code",
   "execution_count": null,
   "metadata": {},
   "outputs": [],
   "source": []
  },
  {
   "cell_type": "code",
   "execution_count": 118,
   "metadata": {},
   "outputs": [
    {
     "name": "stdout",
     "output_type": "stream",
     "text": [
      "10307 probability: 1.559615e-05                                   \r"
     ]
    }
   ],
   "source": [
    "estimated_probability_test = []\n",
    "start = timeit.default_timer()\n",
    "for p in filted:\n",
    "    if int(p.id) in id_train:\n",
    "        continue\n",
    "    \n",
    "    img = np.array(p.img).reshape(-1, height, width, 1)\n",
    "    \n",
    "    predict_angle = MVLP_model['model'].predict(img)\n",
    "    ga = category_angle[np.argmax(predict_angle)]\n",
    "\n",
    "    predict_gender = MVLP_model[ga]['model'].predict(img)\n",
    "    gg = np.argmax(predict_gender)\n",
    "\n",
    "    predict_age = MVLP_model[ga][gg].predict(img)\n",
    "    estimated_probability_test.append(predict_age[0][p.age-2])\n",
    "\n",
    "    b = p.id + \" probability: \" + str(predict_age[0][p.age-2]) + \"                                 \"\n",
    "    print (b, end=\"\\r\")\n",
    "\n",
    "stop = timeit.default_timer()"
   ]
  },
  {
   "cell_type": "code",
   "execution_count": 120,
   "metadata": {},
   "outputs": [],
   "source": [
    "sumation = 0\n",
    "count = 0\n",
    "for proba in estimated_probability_test:\n",
    "    if proba == 0:\n",
    "        count+=1\n",
    "        continue\n",
    "    sumation+=math.log(proba,10)"
   ]
  },
  {
   "cell_type": "code",
   "execution_count": 121,
   "metadata": {},
   "outputs": [
    {
     "name": "stdout",
     "output_type": "stream",
     "text": [
      "20\n",
      "-1.7772965252917137\n"
     ]
    }
   ],
   "source": [
    "MCE = sumation/(len(estimated_probability)-count)\n",
    "print(count)\n",
    "print(MCE)"
   ]
  },
  {
   "cell_type": "code",
   "execution_count": 126,
   "metadata": {},
   "outputs": [
    {
     "name": "stdout",
     "output_type": "stream",
     "text": [
      "0.9760256577706183\n"
     ]
    }
   ],
   "source": [
    "count = 0\n",
    "for p in all_people:\n",
    "    if p.gender == p.guessGender:\n",
    "        count += 1\n",
    "        \n",
    "CCR = count/len(all_people)\n",
    "print(CCR)"
   ]
  },
  {
   "cell_type": "code",
   "execution_count": 130,
   "metadata": {},
   "outputs": [
    {
     "name": "stdout",
     "output_type": "stream",
     "text": [
      "0.9521408389480548\n"
     ]
    }
   ],
   "source": [
    "count = 0\n",
    "for p in people_test:\n",
    "    if p.gender == p.guessGender:\n",
    "        count += 1\n",
    "        \n",
    "CCR = count/len(people_test)\n",
    "print(CCR)"
   ]
  },
  {
   "cell_type": "code",
   "execution_count": null,
   "metadata": {},
   "outputs": [],
   "source": []
  },
  {
   "cell_type": "markdown",
   "metadata": {},
   "source": [
    "# Calculate CS"
   ]
  },
  {
   "cell_type": "code",
   "execution_count": 144,
   "metadata": {},
   "outputs": [],
   "source": [
    "cs1 = 0\n",
    "cs5 = 0\n",
    "cs10 = 0\n",
    "count = 0\n",
    "\n",
    "for p in filted:\n",
    "    if int(p.id) in id_train:\n",
    "        continue\n",
    "    \n",
    "    count+=1\n",
    "    \n",
    "    if abs(p.age-p.guessAge) <= 1:\n",
    "        cs1+=1\n",
    "    \n",
    "    if abs(p.age-p.guessAge) <= 5:\n",
    "        cs5+=1\n",
    "        \n",
    "    if abs(p.age-p.guessAge) <= 10:\n",
    "        cs10+=1\n",
    "    \n",
    "cs1 = (cs1/count)*100\n",
    "cs5 = (cs5/count)*100\n",
    "cs10 = (cs10/count)*100"
   ]
  },
  {
   "cell_type": "code",
   "execution_count": 145,
   "metadata": {},
   "outputs": [
    {
     "name": "stdout",
     "output_type": "stream",
     "text": [
      "22.52 %\n",
      "48.33 %\n",
      "64.18 %\n"
     ]
    }
   ],
   "source": [
    "print(round(cs1,2),'%')\n",
    "print(round(cs5,2),'%')\n",
    "print(round(cs10,2),'%')"
   ]
  },
  {
   "cell_type": "code",
   "execution_count": null,
   "metadata": {},
   "outputs": [],
   "source": []
  },
  {
   "cell_type": "code",
   "execution_count": 148,
   "metadata": {},
   "outputs": [
    {
     "name": "stdout",
     "output_type": "stream",
     "text": [
      "+-------------+------+-------+-------+--------+-------+-------+\n",
      "|   Method    | MAE  | CS(1) | CS(5) | CS(10) |  MCE  |  CCR  |\n",
      "+-------------+------+-------+-------+--------+-------+-------+\n",
      "|   GEINet    | 9.11 | 15.7  | 46.73 | 65.82  | -13.6 |  N/A  |\n",
      "+-------------+------+-------+-------+--------+-------+-------+\n",
      "|   GaitSet   | 9.02 | 16.39 | 47.59 | 66.01  | -5.04 | 92.72 |\n",
      "+-------------+------+-------+-------+--------+-------+-------+\n",
      "| Xu's Method | 8.39 | 15.84 | 48.0  |  68.4  | -4.27 | 94.27 |\n",
      "+-------------+------+-------+-------+--------+-------+-------+\n",
      "| Our Method  | 6.22 | 22.52 | 48.33 | 64.18  | -1.78 | 95.21 |\n",
      "+-------------+------+-------+-------+--------+-------+-------+\n"
     ]
    }
   ],
   "source": [
    "table = BeautifulTable()\n",
    "table.rows.append(['Method', 'MAE', \"CS(1)\", \"CS(5)\", \"CS(10)\", 'MCE', 'CCR'])\n",
    "table.rows.append(['GEINet', '9.11', '15.70', '46.73', '65.82', '-13.60', 'N/A'])\n",
    "table.rows.append(['GaitSet', '9.02', '16.39', '47.59', '66.01', '-5.04', '92.72'])\n",
    "table.rows.append([\"Xu's Method\", '8.39', '15.84', '48.00', '68.40', '-4.27', '94.27'])\n",
    "table.rows.append([\"Our Method\", '6.22', '22.52', '48.33', '64.18', '-1.78', '95.21'])\n",
    "\n",
    "print(table)"
   ]
  },
  {
   "cell_type": "code",
   "execution_count": null,
   "metadata": {},
   "outputs": [],
   "source": []
  },
  {
   "cell_type": "code",
   "execution_count": 2,
   "metadata": {},
   "outputs": [
    {
     "name": "stdout",
     "output_type": "stream",
     "text": [
      "+--------+------------------+\n",
      "| Groups | Contained Angles |\n",
      "+--------+------------------+\n",
      "|   1    |      0, 180      |\n",
      "+--------+------------------+\n",
      "|   2    |     15, 195      |\n",
      "+--------+------------------+\n",
      "|   3    |      30, 45      |\n",
      "+--------+------------------+\n",
      "|   4    |    60, 75, 90    |\n",
      "+--------+------------------+\n",
      "|   5    |     210, 225     |\n",
      "+--------+------------------+\n",
      "|   6    |  240, 255, 270   |\n",
      "+--------+------------------+\n"
     ]
    }
   ],
   "source": [
    "table = BeautifulTable()\n",
    "table.rows.append(['Groups', 'Contained Angles'])\n",
    "\n",
    "\n",
    "print(table)"
   ]
  },
  {
   "cell_type": "code",
   "execution_count": null,
   "metadata": {},
   "outputs": [],
   "source": []
  },
  {
   "cell_type": "code",
   "execution_count": 4,
   "metadata": {},
   "outputs": [
    {
     "name": "stdout",
     "output_type": "stream",
     "text": [
      "+-------------------+------------------+-------------+---------+-------+\n",
      "|       Layer       | Output dimension | Kernel size | Strides | Units |\n",
      "+-------------------+------------------+-------------+---------+-------+\n",
      "|     Conv 2D a     |        18        |     7x7     |    1    |   -   |\n",
      "+-------------------+------------------+-------------+---------+-------+\n",
      "|   Max Pooling a   |        -         |     2x2     |    2    |   -   |\n",
      "+-------------------+------------------+-------------+---------+-------+\n",
      "|   Batch Norm a    |        -         |      -      |    -    |   -   |\n",
      "+-------------------+------------------+-------------+---------+-------+\n",
      "|     Conv 2D b     |        45        |     5x5     |    1    |   -   |\n",
      "+-------------------+------------------+-------------+---------+-------+\n",
      "|   Max Pooling b   |        -         |     3x3     |    2    |   -   |\n",
      "+-------------------+------------------+-------------+---------+-------+\n",
      "|   Batch Norm b    |        -         |      -      |    -    |   -   |\n",
      "+-------------------+------------------+-------------+---------+-------+\n",
      "|     Conv 2D c     |        60        |     3x3     |    1    |   -   |\n",
      "+-------------------+------------------+-------------+---------+-------+\n",
      "|   Max Pooling c   |        -         |     2x2     |    2    |   -   |\n",
      "+-------------------+------------------+-------------+---------+-------+\n",
      "|   Batch Norm c    |        -         |      -      |    -    |   -   |\n",
      "+-------------------+------------------+-------------+---------+-------+\n",
      "|   Flatten Layer   |        -         |      -      |    -    |   -   |\n",
      "+-------------------+------------------+-------------+---------+-------+\n",
      "| Densely-Connected |        -         |      -      |    -    | 1024  |\n",
      "+-------------------+------------------+-------------+---------+-------+\n",
      "|   Batch Norm d    |        -         |      -      |    -    |   -   |\n",
      "+-------------------+------------------+-------------+---------+-------+\n",
      "|   Dropout Layer   |        -         |      -      |    -    |   -   |\n",
      "+-------------------+------------------+-------------+---------+-------+\n",
      "|   Output Layer    |        -         |      -      |    -    |   2   |\n",
      "+-------------------+------------------+-------------+---------+-------+\n"
     ]
    }
   ],
   "source": [
    "table = BeautifulTable()\n",
    "table.rows.append(['Layer', 'Output dimension', 'Kernel size', 'Strides','Units'])\n",
    "\n",
    "table.rows.append(['Conv 2D a', '18', '7x7', '1', '-'])\n",
    "table.rows.append(['Max Pooling a', '-', '2x2', '2', '-'])\n",
    "table.rows.append(['Batch Norm a', '-', '-', '-', '-'])\n",
    "\n",
    "table.rows.append(['Conv 2D b', '45', '5x5', '1', '-'])\n",
    "table.rows.append(['Max Pooling b', '-', '3x3', '2', '-'])\n",
    "table.rows.append(['Batch Norm b', '-', '-', '-', '-'])\n",
    "\n",
    "table.rows.append(['Conv 2D c', '60', '3x3', '1', '-'])\n",
    "table.rows.append(['Max Pooling c', '-', '2x2', '2', '-'])\n",
    "table.rows.append(['Batch Norm c', '-', '-', '-', '-'])\n",
    "\n",
    "table.rows.append(['Flatten Layer', '-', '-', '-', '-'])\n",
    "table.rows.append(['Densely-Connected', '-', '-', '-', '1024'])\n",
    "table.rows.append(['Batch Norm d', '-', '-', '-', '-'])\n",
    "table.rows.append(['Dropout Layer', '-', '-', '-', '-'])\n",
    "\n",
    "table.rows.append(['Output Layer', '-', '-', '-', '2'])\n",
    "\n",
    "#table.maxwidth = 150\n",
    "print(table)"
   ]
  },
  {
   "cell_type": "code",
   "execution_count": null,
   "metadata": {},
   "outputs": [],
   "source": []
  },
  {
   "cell_type": "code",
   "execution_count": null,
   "metadata": {},
   "outputs": [],
   "source": []
  },
  {
   "cell_type": "markdown",
   "metadata": {},
   "source": [
    "# MCE by angle"
   ]
  },
  {
   "cell_type": "code",
   "execution_count": 27,
   "metadata": {},
   "outputs": [],
   "source": [
    "category = [0, 15, 30, 45, 60, 75, 90, 180, 195, 210, 225, 240, 255, 270]\n",
    "\n",
    "all_people_with_angle_filted = {}\n",
    "\n",
    "for p in filted:\n",
    "    if p.angle not in all_people_with_angle_filted:\n",
    "        all_people_with_angle_filted[p.angle] = []\n",
    "    all_people_with_angle_filted[p.angle].append(p)"
   ]
  },
  {
   "cell_type": "code",
   "execution_count": null,
   "metadata": {},
   "outputs": [],
   "source": []
  },
  {
   "cell_type": "code",
   "execution_count": null,
   "metadata": {},
   "outputs": [],
   "source": []
  }
 ],
 "metadata": {
  "kernelspec": {
   "display_name": "Python 3",
   "language": "python",
   "name": "python3"
  },
  "language_info": {
   "codemirror_mode": {
    "name": "ipython",
    "version": 3
   },
   "file_extension": ".py",
   "mimetype": "text/x-python",
   "name": "python",
   "nbconvert_exporter": "python",
   "pygments_lexer": "ipython3",
   "version": "3.8.8"
  }
 },
 "nbformat": 4,
 "nbformat_minor": 4
}

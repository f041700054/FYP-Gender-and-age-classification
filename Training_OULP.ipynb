{
 "cells": [
  {
   "cell_type": "code",
   "execution_count": 2,
   "metadata": {},
   "outputs": [],
   "source": [
    "# Import the library and APIs\n",
    "import pandas as pd\n",
    "import seaborn as sns\n",
    "import matplotlib as mp1\n",
    "import matplotlib.pyplot as plt\n",
    "import numpy as np\n",
    "import os\n",
    "import cv2\n",
    "import csv\n",
    "import array as arr\n",
    "import tensorflow as tf\n",
    "import random\n",
    "import timeit\n",
    "\n",
    "from pandas import DataFrame\n",
    "from tensorflow.keras.utils import to_categorical\n",
    "from tensorflow.keras.models import Sequential\n",
    "from tensorflow.keras.layers import Dense, Dropout, Activation, Flatten, Conv2D, MaxPooling2D, BatchNormalization\n",
    "from numba import cuda"
   ]
  },
  {
   "cell_type": "code",
   "execution_count": 3,
   "metadata": {},
   "outputs": [],
   "source": [
    "# Crate a object class call Person\n",
    "# Which is used to store the value\n",
    "class Person:\n",
    "    def __init__(self, id, filename, img, gender, ageGroup, age):\n",
    "        self.id = id\n",
    "        self.filename = filename\n",
    "        self.img = img\n",
    "        self.gender = gender\n",
    "        self.ageGroup = ageGroup\n",
    "        self.age = age\n",
    "        self.guessGender = 0\n",
    "        self.guessAgeGroup = 0\n",
    "        self.guessAge = 0\n"
   ]
  },
  {
   "cell_type": "code",
   "execution_count": 4,
   "metadata": {},
   "outputs": [],
   "source": [
    "# Read the .csv file to get the subjects informations\n",
    "# Read the .txt file to get the training id list\n",
    "%matplotlib inline\n",
    "\n",
    "df=pd.read_csv('Age_gender_info.csv')\n",
    "id_train = np.loadtxt(\"GEI_IDList_train.txt\", dtype='int32')"
   ]
  },
  {
   "cell_type": "code",
   "execution_count": null,
   "metadata": {},
   "outputs": [],
   "source": [
    "# The total number of epochs should over 100\n",
    "# After 100, the model will be saved \n",
    "# only when the test ass higher than acc\n",
    "\n",
    "def training(x_train,y_train,x_test,y_test,model,epochs,acc,address,isFirst):\n",
    "    e = 0\n",
    "    e_a = 0\n",
    "    if isFirst:\n",
    "        e+=100\n",
    "        history = model.fit(x_train, y_train, epochs = e)\n",
    "        test_loss, test_acc = model.evaluate(x_test, y_test, verbose = 1)\n",
    "        acc = test_acc\n",
    "        e_a = e\n",
    "        model.save(address)\n",
    "    for e < epochs:\n",
    "        e+=5\n",
    "        history = model.fit(x_train, y_train, epochs = e)\n",
    "        test_loss, test_acc = model.evaluate(x_test, y_test, verbose = 1)\n",
    "        if (test_acc > acc):\n",
    "            acc = test_acc\n",
    "            e_a = e\n",
    "            model.save(address)\n",
    "    return e_a, acc"
   ]
  },
  {
   "cell_type": "code",
   "execution_count": 5,
   "metadata": {},
   "outputs": [
    {
     "data": {
      "text/html": [
       "<div>\n",
       "<style scoped>\n",
       "    .dataframe tbody tr th:only-of-type {\n",
       "        vertical-align: middle;\n",
       "    }\n",
       "\n",
       "    .dataframe tbody tr th {\n",
       "        vertical-align: top;\n",
       "    }\n",
       "\n",
       "    .dataframe thead th {\n",
       "        text-align: right;\n",
       "    }\n",
       "</style>\n",
       "<table border=\"1\" class=\"dataframe\">\n",
       "  <thead>\n",
       "    <tr style=\"text-align: right;\">\n",
       "      <th></th>\n",
       "      <th>ID</th>\n",
       "      <th>Age</th>\n",
       "      <th>Gender</th>\n",
       "    </tr>\n",
       "  </thead>\n",
       "  <tbody>\n",
       "    <tr>\n",
       "      <th>0</th>\n",
       "      <td>16588</td>\n",
       "      <td>43</td>\n",
       "      <td>F</td>\n",
       "    </tr>\n",
       "    <tr>\n",
       "      <th>1</th>\n",
       "      <td>44531</td>\n",
       "      <td>32</td>\n",
       "      <td>M</td>\n",
       "    </tr>\n",
       "    <tr>\n",
       "      <th>2</th>\n",
       "      <td>42842</td>\n",
       "      <td>20</td>\n",
       "      <td>F</td>\n",
       "    </tr>\n",
       "    <tr>\n",
       "      <th>3</th>\n",
       "      <td>91844</td>\n",
       "      <td>21</td>\n",
       "      <td>M</td>\n",
       "    </tr>\n",
       "    <tr>\n",
       "      <th>4</th>\n",
       "      <td>39976</td>\n",
       "      <td>11</td>\n",
       "      <td>M</td>\n",
       "    </tr>\n",
       "    <tr>\n",
       "      <th>...</th>\n",
       "      <td>...</td>\n",
       "      <td>...</td>\n",
       "      <td>...</td>\n",
       "    </tr>\n",
       "    <tr>\n",
       "      <th>63841</th>\n",
       "      <td>55628</td>\n",
       "      <td>66</td>\n",
       "      <td>F</td>\n",
       "    </tr>\n",
       "    <tr>\n",
       "      <th>63842</th>\n",
       "      <td>37834</td>\n",
       "      <td>9</td>\n",
       "      <td>F</td>\n",
       "    </tr>\n",
       "    <tr>\n",
       "      <th>63843</th>\n",
       "      <td>90955</td>\n",
       "      <td>46</td>\n",
       "      <td>M</td>\n",
       "    </tr>\n",
       "    <tr>\n",
       "      <th>63844</th>\n",
       "      <td>89684</td>\n",
       "      <td>28</td>\n",
       "      <td>M</td>\n",
       "    </tr>\n",
       "    <tr>\n",
       "      <th>63845</th>\n",
       "      <td>20143</td>\n",
       "      <td>11</td>\n",
       "      <td>F</td>\n",
       "    </tr>\n",
       "  </tbody>\n",
       "</table>\n",
       "<p>63846 rows × 3 columns</p>\n",
       "</div>"
      ],
      "text/plain": [
       "          ID  Age Gender\n",
       "0      16588   43      F\n",
       "1      44531   32      M\n",
       "2      42842   20      F\n",
       "3      91844   21      M\n",
       "4      39976   11      M\n",
       "...      ...  ...    ...\n",
       "63841  55628   66      F\n",
       "63842  37834    9      F\n",
       "63843  90955   46      M\n",
       "63844  89684   28      M\n",
       "63845  20143   11      F\n",
       "\n",
       "[63846 rows x 3 columns]"
      ]
     },
     "execution_count": 5,
     "metadata": {},
     "output_type": "execute_result"
    }
   ],
   "source": [
    "df"
   ]
  },
  {
   "cell_type": "code",
   "execution_count": 10,
   "metadata": {},
   "outputs": [],
   "source": [
    "datadir = r\"C:/Users/Acer/FYP/GEI/\"\n",
    "\n",
    "id = df['ID'][0].astype(str)\n",
    "filename = os.path.join(datadir, '0'*(8-len(id)) + id + '.png')\n",
    "img = cv2.imread(filename, cv2.IMREAD_GRAYSCALE)\n",
    "\n",
    "height, width = img.shape"
   ]
  },
  {
   "cell_type": "code",
   "execution_count": 6,
   "metadata": {},
   "outputs": [
    {
     "name": "stdout",
     "output_type": "stream",
     "text": [
      "63846\n"
     ]
    }
   ],
   "source": [
    "# Data mapping\n",
    "# Loop through df, get the data on each rows\n",
    "# Create a new Person object and set the value\n",
    "# Append the object to a object list\n",
    "\n",
    "datadir = r\"C:/Users/Martin/FYP/GEI/\"\n",
    "people_train = []\n",
    "people_test = []\n",
    "\n",
    "df.ID = df.ID.astype(str)\n",
    "for index, data in df.iterrows():\n",
    "    id = data.ID\n",
    "    filename = os.path.join(datadir, '0'*(8-len(id)) + id + '.png')\n",
    "    img = cv2.imread(filename, cv2.IMREAD_GRAYSCALE)\n",
    "\n",
    "    gender = 1 if data.Gender == 'M' else 0\n",
    "\n",
    "    age = data.Age\n",
    "    if age < 6:\n",
    "        ageGroup = 0\n",
    "    elif age < 11:\n",
    "        ageGroup = 1\n",
    "    elif age < 16:\n",
    "        ageGroup = 2\n",
    "    elif age < 61:\n",
    "        ageGroup = 3\n",
    "    else:\n",
    "        ageGroup = 4\n",
    "\n",
    "    p = Person(id, filename, img, gender, ageGroup, age)\n",
    "\n",
    "    if int(id) in id_train:\n",
    "        people_train.append(p)\n",
    "    else:\n",
    "        people_test.append(p)\n",
    "        \n",
    "all_people = people_train + people_test\n",
    "\n",
    "# Getting the height and width of a image\n",
    "# Since all the images have the same value of height and width\n",
    "height, width = all_people[0].img.shape\n",
    "\n",
    "# Print out the length of all_people list\n",
    "# It should be 63846\n",
    "print(len(all_people))"
   ]
  },
  {
   "cell_type": "code",
   "execution_count": 7,
   "metadata": {},
   "outputs": [],
   "source": [
    "all_people = people_train + people_test"
   ]
  },
  {
   "cell_type": "code",
   "execution_count": null,
   "metadata": {},
   "outputs": [],
   "source": []
  },
  {
   "cell_type": "markdown",
   "metadata": {},
   "source": [
    "# Gender"
   ]
  },
  {
   "cell_type": "code",
   "execution_count": 10,
   "metadata": {},
   "outputs": [],
   "source": [
    "x_train = []\n",
    "y_train = []\n",
    "\n",
    "for p in people_train:\n",
    "    img = np.rot90(p.img,3)\n",
    "    x_train.append(img)\n",
    "    y_train.append(p.gender)\n",
    "    \n",
    "x_train = np.array(x_train).reshape(-1, width, height, 1)\n",
    "y_train = np.array(y_train, dtype='int32')\n",
    "\n",
    "y_train = to_categorical(y_train)"
   ]
  },
  {
   "cell_type": "code",
   "execution_count": 11,
   "metadata": {},
   "outputs": [],
   "source": [
    "x_test = []\n",
    "y_test = []\n",
    "\n",
    "for p in people_test:\n",
    "    img = np.rot90(p.img,3)\n",
    "    x_test.append(img)\n",
    "    y_test.append(p.gender)\n",
    "    \n",
    "x_test = np.array(x_test).reshape(-1, width, height, 1)\n",
    "y_test = np.array(y_test, dtype='int32')\n",
    "\n",
    "y_test = to_categorical(y_test)"
   ]
  },
  {
   "cell_type": "code",
   "execution_count": 34,
   "metadata": {},
   "outputs": [],
   "source": [
    "model = Sequential()\n",
    "model.add(Conv2D(81, (5, 5), strides = 1, activation = 'relu', input_shape = (width, height, 1)))\n",
    "model.add(BatchNormalization())\n",
    "model.add(MaxPooling2D(pool_size = (3,3), strides = 2))\n",
    "\n",
    "model.add(Conv2D(45, (7, 7), strides = 1, activation = 'relu'))\n",
    "model.add(BatchNormalization())\n",
    "model.add(MaxPooling2D(pool_size = (2,2), strides = 2))\n",
    "\n",
    "model.add(Flatten())\n",
    "model.add(Dense(1024, activation = 'relu'))\n",
    "model.add(BatchNormalization())\n",
    "\n",
    "model.save(\"OULP-Age_without_output_layer.h5\")"
   ]
  },
  {
   "cell_type": "code",
   "execution_count": 50,
   "metadata": {},
   "outputs": [
    {
     "name": "stdout",
     "output_type": "stream",
     "text": [
      "WARNING:tensorflow:No training configuration found in the save file, so the model was *not* compiled. Compile it manually.\n",
      "Model: \"sequential_3\"\n",
      "_________________________________________________________________\n",
      "Layer (type)                 Output Shape              Param #   \n",
      "=================================================================\n",
      "conv2d_6 (Conv2D)            (None, 84, 124, 81)       2106      \n",
      "_________________________________________________________________\n",
      "batch_normalization_9 (Batch (None, 84, 124, 81)       324       \n",
      "_________________________________________________________________\n",
      "max_pooling2d_6 (MaxPooling2 (None, 41, 61, 81)        0         \n",
      "_________________________________________________________________\n",
      "conv2d_7 (Conv2D)            (None, 35, 55, 45)        178650    \n",
      "_________________________________________________________________\n",
      "batch_normalization_10 (Batc (None, 35, 55, 45)        180       \n",
      "_________________________________________________________________\n",
      "max_pooling2d_7 (MaxPooling2 (None, 17, 27, 45)        0         \n",
      "_________________________________________________________________\n",
      "flatten_2 (Flatten)          (None, 20655)             0         \n",
      "_________________________________________________________________\n",
      "dense_6 (Dense)              (None, 1024)              21151744  \n",
      "_________________________________________________________________\n",
      "batch_normalization_11 (Batc (None, 1024)              4096      \n",
      "_________________________________________________________________\n",
      "dense_12 (Dense)             (None, 2)                 2050      \n",
      "=================================================================\n",
      "Total params: 21,339,150\n",
      "Trainable params: 21,336,850\n",
      "Non-trainable params: 2,300\n",
      "_________________________________________________________________\n"
     ]
    }
   ],
   "source": [
    "# Create the block for layer 1\n",
    "block_gender = tf.keras.models.load_model('OULP-Age_without_output_layer.h5')\n",
    "\n",
    "block_gender.add(Dense(2, activation = 'softmax'))\n",
    "block_gender.compile(loss = 'categorical_crossentropy', optimizer = 'Adam', metrics = ['accuracy'])\n",
    "block_gender.summary()"
   ]
  },
  {
   "cell_type": "code",
   "execution_count": 51,
   "metadata": {
    "scrolled": true
   },
   "outputs": [
    {
     "name": "stdout",
     "output_type": "stream",
     "text": [
      "Epoch 1/100\n",
      "998/998 [==============================] - 1480s 1s/step - loss: 0.1889 - accuracy: 0.9319\n",
      "Epoch 2/100\n",
      "998/998 [==============================] - 1512s 2s/step - loss: 0.1340 - accuracy: 0.9488\n",
      "Epoch 3/100\n",
      "998/998 [==============================] - 1542s 2s/step - loss: 0.1248 - accuracy: 0.9521\n",
      "Epoch 4/100\n",
      "998/998 [==============================] - 1622s 2s/step - loss: 0.1136 - accuracy: 0.9580\n",
      "Epoch 5/100\n",
      "998/998 [==============================] - 1702s 2s/step - loss: 0.1087 - accuracy: 0.9594\n",
      "Epoch 6/100\n",
      "998/998 [==============================] - 1604s 2s/step - loss: 0.0990 - accuracy: 0.9629\n",
      "Epoch 7/100\n",
      "998/998 [==============================] - 1735s 2s/step - loss: 0.0930 - accuracy: 0.9652\n",
      "Epoch 8/100\n",
      "998/998 [==============================] - 1756s 2s/step - loss: 0.0858 - accuracy: 0.9678\n",
      "Epoch 9/100\n",
      "998/998 [==============================] - 1815s 2s/step - loss: 0.0808 - accuracy: 0.9696\n",
      "Epoch 10/100\n",
      "998/998 [==============================] - 1725s 2s/step - loss: 0.0750 - accuracy: 0.9718\n",
      "Epoch 11/100\n",
      "998/998 [==============================] - 1760s 2s/step - loss: 0.0700 - accuracy: 0.9734\n",
      "Epoch 12/100\n",
      "998/998 [==============================] - 1784s 2s/step - loss: 0.0646 - accuracy: 0.9754\n",
      "Epoch 13/100\n",
      "998/998 [==============================] - 1747s 2s/step - loss: 0.0573 - accuracy: 0.9783\n",
      "Epoch 14/100\n",
      "998/998 [==============================] - 1746s 2s/step - loss: 0.0495 - accuracy: 0.9821\n",
      "Epoch 15/100\n",
      "998/998 [==============================] - 1626s 2s/step - loss: 0.0470 - accuracy: 0.9830\n",
      "Epoch 16/100\n",
      "998/998 [==============================] - 1698s 2s/step - loss: 0.0439 - accuracy: 0.9831\n",
      "Epoch 17/100\n",
      "998/998 [==============================] - 1681s 2s/step - loss: 0.0385 - accuracy: 0.9865\n",
      "Epoch 18/100\n",
      "998/998 [==============================] - 1588s 2s/step - loss: 0.0346 - accuracy: 0.9875\n",
      "Epoch 19/100\n",
      "998/998 [==============================] - 1588s 2s/step - loss: 0.0349 - accuracy: 0.9868\n",
      "Epoch 20/100\n",
      "998/998 [==============================] - 1605s 2s/step - loss: 0.0319 - accuracy: 0.9882\n",
      "Epoch 21/100\n",
      "998/998 [==============================] - 1589s 2s/step - loss: 0.0304 - accuracy: 0.9887\n",
      "Epoch 22/100\n",
      "998/998 [==============================] - 1587s 2s/step - loss: 0.0255 - accuracy: 0.9907\n",
      "Epoch 23/100\n",
      "998/998 [==============================] - 1587s 2s/step - loss: 0.0237 - accuracy: 0.9914\n",
      "Epoch 24/100\n",
      "998/998 [==============================] - 1585s 2s/step - loss: 0.0232 - accuracy: 0.9915\n",
      "Epoch 25/100\n",
      "998/998 [==============================] - 1582s 2s/step - loss: 0.0216 - accuracy: 0.9922\n",
      "Epoch 26/100\n",
      "998/998 [==============================] - 1581s 2s/step - loss: 0.0216 - accuracy: 0.9921\n",
      "Epoch 27/100\n",
      "998/998 [==============================] - 1579s 2s/step - loss: 0.0168 - accuracy: 0.9938\n",
      "Epoch 28/100\n",
      "998/998 [==============================] - 1579s 2s/step - loss: 0.0194 - accuracy: 0.9934\n",
      "Epoch 29/100\n",
      "998/998 [==============================] - 1583s 2s/step - loss: 0.0195 - accuracy: 0.9933\n",
      "Epoch 30/100\n",
      "998/998 [==============================] - 1586s 2s/step - loss: 0.0157 - accuracy: 0.9944\n",
      "Epoch 31/100\n",
      "998/998 [==============================] - 1583s 2s/step - loss: 0.0152 - accuracy: 0.9944\n",
      "Epoch 32/100\n",
      "998/998 [==============================] - 1578s 2s/step - loss: 0.0149 - accuracy: 0.9945\n",
      "Epoch 33/100\n",
      "998/998 [==============================] - 1573s 2s/step - loss: 0.0135 - accuracy: 0.9952\n",
      "Epoch 34/100\n",
      "998/998 [==============================] - 1582s 2s/step - loss: 0.0140 - accuracy: 0.9953\n",
      "Epoch 35/100\n",
      "998/998 [==============================] - 1749s 2s/step - loss: 0.0116 - accuracy: 0.9958\n",
      "Epoch 36/100\n",
      "998/998 [==============================] - 1626s 2s/step - loss: 0.0109 - accuracy: 0.9962\n",
      "Epoch 37/100\n",
      "998/998 [==============================] - 1750s 2s/step - loss: 0.0155 - accuracy: 0.9944\n",
      "Epoch 38/100\n",
      "998/998 [==============================] - 1669s 2s/step - loss: 0.0109 - accuracy: 0.9963\n",
      "Epoch 39/100\n",
      "998/998 [==============================] - 1808s 2s/step - loss: 0.0092 - accuracy: 0.9966\n",
      "Epoch 40/100\n",
      "998/998 [==============================] - 1916s 2s/step - loss: 0.0098 - accuracy: 0.9966\n",
      "Epoch 41/100\n",
      "998/998 [==============================] - 1871s 2s/step - loss: 0.0111 - accuracy: 0.9965\n",
      "Epoch 42/100\n",
      "998/998 [==============================] - 1883s 2s/step - loss: 0.0105 - accuracy: 0.9962\n",
      "Epoch 43/100\n",
      "998/998 [==============================] - 1858s 2s/step - loss: 0.0085 - accuracy: 0.9971\n",
      "Epoch 44/100\n",
      "998/998 [==============================] - 2238s 2s/step - loss: 0.0124 - accuracy: 0.9960\n",
      "Epoch 45/100\n",
      "998/998 [==============================] - 2861s 3s/step - loss: 0.0076 - accuracy: 0.9973\n",
      "Epoch 46/100\n",
      "998/998 [==============================] - 1752s 2s/step - loss: 0.0062 - accuracy: 0.9981\n",
      "Epoch 47/100\n",
      "998/998 [==============================] - 1723s 2s/step - loss: 0.0094 - accuracy: 0.9968\n",
      "Epoch 48/100\n",
      "998/998 [==============================] - 1625s 2s/step - loss: 0.0071 - accuracy: 0.9973\n",
      "Epoch 49/100\n",
      "998/998 [==============================] - 1573s 2s/step - loss: 0.0079 - accuracy: 0.9973\n",
      "Epoch 50/100\n",
      "998/998 [==============================] - 1513s 2s/step - loss: 0.0056 - accuracy: 0.9980\n",
      "Epoch 51/100\n",
      "998/998 [==============================] - 1621s 2s/step - loss: 0.0098 - accuracy: 0.9966\n",
      "Epoch 52/100\n",
      "998/998 [==============================] - 1629s 2s/step - loss: 0.0073 - accuracy: 0.9978\n",
      "Epoch 53/100\n",
      "998/998 [==============================] - 1609s 2s/step - loss: 0.0040 - accuracy: 0.9987\n",
      "Epoch 54/100\n",
      "998/998 [==============================] - 1506s 2s/step - loss: 0.0101 - accuracy: 0.9967\n",
      "Epoch 55/100\n",
      "998/998 [==============================] - 1605s 2s/step - loss: 0.0074 - accuracy: 0.9977\n",
      "Epoch 56/100\n",
      "998/998 [==============================] - 1568s 2s/step - loss: 0.0048 - accuracy: 0.9983\n",
      "Epoch 57/100\n",
      "998/998 [==============================] - 1553s 2s/step - loss: 0.0078 - accuracy: 0.9972\n",
      "Epoch 58/100\n",
      "998/998 [==============================] - 1738s 2s/step - loss: 0.0056 - accuracy: 0.9979\n",
      "Epoch 59/100\n",
      "998/998 [==============================] - 1775s 2s/step - loss: 0.0057 - accuracy: 0.9979\n",
      "Epoch 60/100\n",
      "998/998 [==============================] - 1654s 2s/step - loss: 0.0072 - accuracy: 0.9975\n",
      "Epoch 61/100\n",
      "998/998 [==============================] - 1589s 2s/step - loss: 0.0051 - accuracy: 0.9980\n",
      "Epoch 62/100\n",
      "998/998 [==============================] - 1528s 2s/step - loss: 0.0068 - accuracy: 0.9977\n",
      "Epoch 63/100\n",
      "998/998 [==============================] - 1503s 2s/step - loss: 0.0063 - accuracy: 0.9981\n",
      "Epoch 64/100\n",
      "998/998 [==============================] - 1533s 2s/step - loss: 0.0051 - accuracy: 0.9983\n",
      "Epoch 65/100\n",
      "998/998 [==============================] - 1510s 2s/step - loss: 0.0050 - accuracy: 0.9984\n",
      "Epoch 66/100\n",
      "998/998 [==============================] - 1525s 2s/step - loss: 0.0074 - accuracy: 0.9977\n",
      "Epoch 67/100\n",
      "998/998 [==============================] - 1498s 2s/step - loss: 0.0052 - accuracy: 0.9979\n",
      "Epoch 68/100\n",
      "998/998 [==============================] - 1409s 1s/step - loss: 0.0050 - accuracy: 0.9982\n",
      "Epoch 69/100\n",
      "998/998 [==============================] - 1422s 1s/step - loss: 0.0067 - accuracy: 0.9977\n",
      "Epoch 70/100\n",
      "998/998 [==============================] - 1409s 1s/step - loss: 0.0063 - accuracy: 0.9980\n",
      "Epoch 71/100\n",
      "998/998 [==============================] - 1402s 1s/step - loss: 0.0034 - accuracy: 0.9988\n",
      "Epoch 72/100\n",
      "998/998 [==============================] - 1402s 1s/step - loss: 0.0049 - accuracy: 0.9983\n",
      "Epoch 73/100\n",
      "998/998 [==============================] - 1414s 1s/step - loss: 0.0038 - accuracy: 0.9985\n",
      "Epoch 74/100\n",
      "998/998 [==============================] - 1411s 1s/step - loss: 0.0042 - accuracy: 0.9985\n",
      "Epoch 75/100\n",
      "998/998 [==============================] - 1403s 1s/step - loss: 0.0051 - accuracy: 0.9983\n",
      "Epoch 76/100\n",
      "998/998 [==============================] - 1402s 1s/step - loss: 0.0062 - accuracy: 0.9982\n",
      "Epoch 77/100\n",
      "998/998 [==============================] - 1405s 1s/step - loss: 0.0046 - accuracy: 0.9983\n",
      "Epoch 78/100\n",
      "998/998 [==============================] - 1402s 1s/step - loss: 0.0037 - accuracy: 0.9986\n",
      "Epoch 79/100\n",
      "998/998 [==============================] - 1402s 1s/step - loss: 0.0039 - accuracy: 0.9989\n",
      "Epoch 80/100\n",
      "998/998 [==============================] - 1402s 1s/step - loss: 0.0066 - accuracy: 0.9976\n",
      "Epoch 81/100\n",
      "998/998 [==============================] - 1403s 1s/step - loss: 0.0035 - accuracy: 0.9988\n",
      "Epoch 82/100\n",
      "998/998 [==============================] - 1403s 1s/step - loss: 0.0059 - accuracy: 0.9982\n",
      "Epoch 83/100\n",
      "998/998 [==============================] - 1402s 1s/step - loss: 0.0055 - accuracy: 0.9982\n",
      "Epoch 84/100\n",
      "998/998 [==============================] - 1403s 1s/step - loss: 0.0042 - accuracy: 0.9985\n",
      "Epoch 85/100\n",
      "998/998 [==============================] - 1402s 1s/step - loss: 0.0030 - accuracy: 0.9988\n",
      "Epoch 86/100\n",
      "998/998 [==============================] - 1402s 1s/step - loss: 0.0043 - accuracy: 0.9985\n",
      "Epoch 87/100\n",
      "998/998 [==============================] - 1402s 1s/step - loss: 0.0036 - accuracy: 0.9987\n",
      "Epoch 88/100\n",
      "998/998 [==============================] - 1402s 1s/step - loss: 0.0052 - accuracy: 0.9985\n",
      "Epoch 89/100\n",
      "998/998 [==============================] - 1401s 1s/step - loss: 0.0044 - accuracy: 0.9983\n",
      "Epoch 90/100\n",
      "998/998 [==============================] - 1401s 1s/step - loss: 0.0040 - accuracy: 0.9985\n",
      "Epoch 91/100\n",
      "998/998 [==============================] - 1402s 1s/step - loss: 0.0028 - accuracy: 0.9991\n",
      "Epoch 92/100\n",
      "998/998 [==============================] - 1402s 1s/step - loss: 0.0052 - accuracy: 0.9982\n",
      "Epoch 93/100\n",
      "998/998 [==============================] - 1411s 1s/step - loss: 0.0046 - accuracy: 0.9984\n",
      "Epoch 94/100\n",
      "998/998 [==============================] - 1467s 1s/step - loss: 0.0037 - accuracy: 0.9986\n",
      "Epoch 95/100\n",
      "998/998 [==============================] - 1430s 1s/step - loss: 0.0042 - accuracy: 0.9986\n",
      "Epoch 96/100\n",
      "998/998 [==============================] - 1418s 1s/step - loss: 0.0029 - accuracy: 0.9990\n",
      "Epoch 97/100\n",
      "998/998 [==============================] - 1415s 1s/step - loss: 0.0046 - accuracy: 0.9984\n",
      "Epoch 98/100\n",
      "998/998 [==============================] - 1424s 1s/step - loss: 0.0033 - accuracy: 0.9988\n",
      "Epoch 99/100\n",
      "998/998 [==============================] - 1432s 1s/step - loss: 0.0031 - accuracy: 0.9989\n",
      "Epoch 100/100\n",
      "998/998 [==============================] - 1429s 1s/step - loss: 0.0027 - accuracy: 0.9991\n",
      "998/998 [==============================] - 183s 183ms/step - loss: 0.1858 - accuracy: 0.9689\n",
      "0.9688938856124878\n"
     ]
    }
   ],
   "source": [
    "history = block_gender.fit(x_train, y_train, epochs = 100)\n",
    "test_loss, test_acc = block_gender.evaluate(x_test, y_test, verbose = 1)\n",
    "print(test_acc)"
   ]
  },
  {
   "cell_type": "code",
   "execution_count": 52,
   "metadata": {},
   "outputs": [],
   "source": [
    "#0.9339348077774048\n",
    "block_gender.save(\"OULP-Age_gender.h5\")"
   ]
  },
  {
   "cell_type": "code",
   "execution_count": 43,
   "metadata": {},
   "outputs": [],
   "source": [
    "#model.save(\"gender_model_v2.h5\")"
   ]
  },
  {
   "cell_type": "code",
   "execution_count": 14,
   "metadata": {},
   "outputs": [],
   "source": [
    "block_gender = tf.keras.models.load_model('OULP-Age_gender.h5')"
   ]
  },
  {
   "cell_type": "code",
   "execution_count": 9,
   "metadata": {},
   "outputs": [
    {
     "name": "stdout",
     "output_type": "stream",
     "text": [
      "ID: 20143 Gender: F Guess: F\r"
     ]
    }
   ],
   "source": [
    "gender_label = ['F','M']\n",
    "\n",
    "start = timeit.default_timer()\n",
    "for p in all_people:\n",
    "    img = np.rot90(p.img,3)\n",
    "    img = np.array(img).reshape(-1, width, height, 1)\n",
    "    prediction = block_gender.predict(img)\n",
    "    p.guessGender = np.argmax(prediction)\n",
    "\n",
    "    b = \"ID: \"+ p.id + \" Gender: \" + gender_label[p.gender] + \" Guess: \" + gender_label[p.guessGender]\n",
    "    print (b, end=\"\\r\")\n",
    "        \n",
    "stop = timeit.default_timer()"
   ]
  },
  {
   "cell_type": "code",
   "execution_count": 12,
   "metadata": {},
   "outputs": [
    {
     "name": "stdout",
     "output_type": "stream",
     "text": [
      "Prediction Time:  42 minutes\n",
      "\n"
     ]
    }
   ],
   "source": [
    "print('Prediction Time: ', round((stop - start)/60), 'minutes\\n')"
   ]
  },
  {
   "cell_type": "markdown",
   "metadata": {},
   "source": [
    "# Female age group"
   ]
  },
  {
   "cell_type": "code",
   "execution_count": 23,
   "metadata": {},
   "outputs": [],
   "source": [
    "x_train = []\n",
    "y_train = []\n",
    "\n",
    "for p in people_train:\n",
    "    if p.guessGender == 0:\n",
    "        img = np.rot90(p.img,3)\n",
    "        x_train.append(img)\n",
    "        y_train.append(p.ageGroup)\n",
    "    \n",
    "x_train = np.array(x_train).reshape(-1, width, height, 1)\n",
    "y_train = np.array(y_train, dtype='int32')\n",
    "\n",
    "y_train = to_categorical(y_train)\n",
    "\n",
    "x_test = []\n",
    "y_test = []\n",
    "\n",
    "for p in people_test:\n",
    "    if p.guessGender == 0:\n",
    "        img = np.rot90(p.img,3)\n",
    "        x_test.append(img)\n",
    "        y_test.append(p.ageGroup)\n",
    "    \n",
    "x_test = np.array(x_test).reshape(-1, width, height, 1)\n",
    "y_test = np.array(y_test, dtype='int32')\n",
    "\n",
    "y_test = to_categorical(y_test)"
   ]
  },
  {
   "cell_type": "code",
   "execution_count": 24,
   "metadata": {},
   "outputs": [
    {
     "name": "stdout",
     "output_type": "stream",
     "text": [
      "WARNING:tensorflow:No training configuration found in the save file, so the model was *not* compiled. Compile it manually.\n",
      "Model: \"sequential_3\"\n",
      "_________________________________________________________________\n",
      "Layer (type)                 Output Shape              Param #   \n",
      "=================================================================\n",
      "conv2d_6 (Conv2D)            (None, 84, 124, 81)       2106      \n",
      "_________________________________________________________________\n",
      "batch_normalization_9 (Batch (None, 84, 124, 81)       324       \n",
      "_________________________________________________________________\n",
      "max_pooling2d_6 (MaxPooling2 (None, 41, 61, 81)        0         \n",
      "_________________________________________________________________\n",
      "conv2d_7 (Conv2D)            (None, 35, 55, 45)        178650    \n",
      "_________________________________________________________________\n",
      "batch_normalization_10 (Batc (None, 35, 55, 45)        180       \n",
      "_________________________________________________________________\n",
      "max_pooling2d_7 (MaxPooling2 (None, 17, 27, 45)        0         \n",
      "_________________________________________________________________\n",
      "flatten_2 (Flatten)          (None, 20655)             0         \n",
      "_________________________________________________________________\n",
      "dense_6 (Dense)              (None, 1024)              21151744  \n",
      "_________________________________________________________________\n",
      "batch_normalization_11 (Batc (None, 1024)              4096      \n",
      "_________________________________________________________________\n",
      "dense_1 (Dense)              (None, 5)                 5125      \n",
      "=================================================================\n",
      "Total params: 21,342,225\n",
      "Trainable params: 21,339,925\n",
      "Non-trainable params: 2,300\n",
      "_________________________________________________________________\n"
     ]
    }
   ],
   "source": [
    "# Create the block for layer 2 female\n",
    "block_F_age_group = tf.keras.models.load_model('OULP-Age_without_output_layer.h5')\n",
    "\n",
    "block_F_age_group.add(Dense(5, activation = 'softmax'))\n",
    "block_F_age_group.compile(loss = 'categorical_crossentropy', optimizer = 'Adam', metrics = ['accuracy'])\n",
    "block_F_age_group.summary()"
   ]
  },
  {
   "cell_type": "code",
   "execution_count": null,
   "metadata": {},
   "outputs": [],
   "source": [
    "start = timeit.default_timer()\n",
    "\n",
    "history = block_F_age_group.fit(x_train, y_train, epochs = 100)\n",
    "test_loss, test_acc = block_F_age_group.evaluate(x_test, y_test, verbose = 1)\n",
    "print(test_acc)\n",
    "\n",
    "stop = timeit.default_timer()\n",
    "print('Training Time: ', round((stop - start)/60), 'minutes\\n')"
   ]
  },
  {
   "cell_type": "code",
   "execution_count": null,
   "metadata": {},
   "outputs": [],
   "source": [
    "block_F_age_group.save(\"OULP-Age_F_age_group.h5\")"
   ]
  },
  {
   "cell_type": "code",
   "execution_count": null,
   "metadata": {},
   "outputs": [],
   "source": []
  },
  {
   "cell_type": "code",
   "execution_count": null,
   "metadata": {},
   "outputs": [],
   "source": []
  },
  {
   "cell_type": "code",
   "execution_count": null,
   "metadata": {},
   "outputs": [],
   "source": [
    "def to_cat(y_arr,min,max):\n",
    "    y = []\n",
    "    for age in range(y_arr):\n",
    "        arr_range = [0]*(max - min + 1)\n",
    "        arr_range[age-min]+=1\n",
    "        y.append(arr_range)\n",
    "    return np.asarray(y)"
   ]
  },
  {
   "cell_type": "code",
   "execution_count": null,
   "metadata": {},
   "outputs": [],
   "source": [
    "def un_cat(prediction, group):\n",
    "    min_list = [0, 6, 11, 16, 61]\n",
    "    return min_list[group]+np.argmax(prediction)\n",
    "    "
   ]
  },
  {
   "cell_type": "code",
   "execution_count": null,
   "metadata": {},
   "outputs": [],
   "source": []
  },
  {
   "cell_type": "markdown",
   "metadata": {},
   "source": [
    "# =============================================="
   ]
  },
  {
   "cell_type": "code",
   "execution_count": 44,
   "metadata": {},
   "outputs": [],
   "source": [
    "gender_model = tf.keras.models.load_model('gender_model_v2.h5')"
   ]
  },
  {
   "cell_type": "code",
   "execution_count": 55,
   "metadata": {},
   "outputs": [],
   "source": [
    "error_count = []\n",
    "\n",
    "start = timeit.default_timer()\n",
    "for p in people_test:\n",
    "    img = np.array(p.img).reshape(-1, IMG_SIZE,IMG_SIZE,1)\n",
    "    if p.guessGender == 0:\n",
    "        prediction = gender_model.predict(img)\n",
    "    else:\n",
    "        prediction = gender_model.predict(img)\n",
    "    p.guessAgeGroup = np.argmax(prediction)\n",
    "    \n",
    "stop = timeit.default_timer()\n"
   ]
  },
  {
   "cell_type": "code",
   "execution_count": 56,
   "metadata": {},
   "outputs": [
    {
     "name": "stdout",
     "output_type": "stream",
     "text": [
      "Prediction Time:  14 minutes\n",
      "\n"
     ]
    }
   ],
   "source": [
    "print('Prediction Time: ', round((stop - start)/60), 'minutes\\n')"
   ]
  },
  {
   "cell_type": "code",
   "execution_count": 145,
   "metadata": {},
   "outputs": [
    {
     "name": "stdout",
     "output_type": "stream",
     "text": [
      "786\n",
      "221\n"
     ]
    }
   ],
   "source": [
    "error_female = []\n",
    "error_male = []\n",
    "for p in error_count:\n",
    "    if p.gender == 0:\n",
    "        error_female.append(p)\n",
    "    else:\n",
    "        error_male.append(p)\n",
    "        \n",
    "print(len(error_female))\n",
    "print(len(error_male))"
   ]
  },
  {
   "cell_type": "code",
   "execution_count": 146,
   "metadata": {},
   "outputs": [],
   "source": [
    "pople_test_female_count = 0\n",
    "for p in people_test:\n",
    "    if p.gender == 0:\n",
    "        pople_test_female_count += 1\n",
    "\n"
   ]
  },
  {
   "cell_type": "code",
   "execution_count": 147,
   "metadata": {},
   "outputs": [],
   "source": [
    "pople_test_male_count = len(people_test) - pople_test_female_count\n",
    "true_male = pople_test_male_count - len(error_male)\n",
    "true_female = pople_test_female_count - len(error_female)\n",
    "guess_to_male = true_male + len(error_female)\n",
    "guess_to_female = true_female + len(error_male)\n",
    "total = guess_to_male + guess_to_female"
   ]
  },
  {
   "cell_type": "code",
   "execution_count": 148,
   "metadata": {},
   "outputs": [
    {
     "name": "stdout",
     "output_type": "stream",
     "text": [
      "       Ground Truth-->   male  female  Total\n",
      "Predicted                                   \n",
      "male                    15276     786  16062\n",
      "female                    221   15640  15861\n",
      "Total                   15497   16426  31923\n"
     ]
    }
   ],
   "source": [
    "dframe = DataFrame([[true_male,len(error_female),guess_to_male],\n",
    "                    [len(error_male),true_female,guess_to_female],\n",
    "                    [pople_test_male_count,pople_test_female_count,total]],\n",
    "                   index = ['male', 'female', 'Total'], columns = ['male', 'female', 'Total'])\n",
    "\n",
    "dframe.index.names = ['Predicted']\n",
    "dframe.columns.names = ['       Ground Truth-->']\n",
    "print(dframe)"
   ]
  },
  {
   "cell_type": "code",
   "execution_count": null,
   "metadata": {},
   "outputs": [],
   "source": []
  },
  {
   "cell_type": "code",
   "execution_count": null,
   "metadata": {},
   "outputs": [],
   "source": []
  },
  {
   "cell_type": "code",
   "execution_count": null,
   "metadata": {},
   "outputs": [],
   "source": []
  },
  {
   "cell_type": "code",
   "execution_count": null,
   "metadata": {},
   "outputs": [],
   "source": []
  },
  {
   "cell_type": "code",
   "execution_count": null,
   "metadata": {},
   "outputs": [],
   "source": []
  },
  {
   "cell_type": "code",
   "execution_count": null,
   "metadata": {},
   "outputs": [],
   "source": []
  }
 ],
 "metadata": {
  "kernelspec": {
   "display_name": "Python 3",
   "language": "python",
   "name": "python3"
  },
  "language_info": {
   "codemirror_mode": {
    "name": "ipython",
    "version": 3
   },
   "file_extension": ".py",
   "mimetype": "text/x-python",
   "name": "python",
   "nbconvert_exporter": "python",
   "pygments_lexer": "ipython3",
   "version": "3.8.8"
  }
 },
 "nbformat": 4,
 "nbformat_minor": 4
}

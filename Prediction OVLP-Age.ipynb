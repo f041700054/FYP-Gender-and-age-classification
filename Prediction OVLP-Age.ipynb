{
 "cells": [
  {
   "cell_type": "code",
   "execution_count": 1,
   "metadata": {},
   "outputs": [],
   "source": [
    "import pandas as pd\n",
    "import matplotlib.pyplot as plt\n",
    "import numpy as np\n",
    "import os\n",
    "import cv2\n",
    "import csv\n",
    "import tensorflow as tf\n",
    "import timeit\n",
    "import seaborn as sns\n",
    "import random\n",
    "import math\n",
    "from tensorflow.keras.utils import to_categorical\n",
    "from pandas import DataFrame\n",
    "from copy import copy, deepcopy\n",
    "from beautifultable import BeautifulTable"
   ]
  },
  {
   "cell_type": "code",
   "execution_count": 2,
   "metadata": {},
   "outputs": [],
   "source": [
    "class Person:\n",
    "    def __init__(self, id, filename, img, gender, ageGroup, age):\n",
    "        self.id = id\n",
    "        self.filename = filename\n",
    "        self.img = img\n",
    "        self.gender = gender\n",
    "        self.ageGroup = ageGroup\n",
    "        self.age = age\n",
    "        self.guessGender = 0\n",
    "        self.guessAgeGroup = 0\n",
    "        self.guessAge = 0"
   ]
  },
  {
   "cell_type": "code",
   "execution_count": 3,
   "metadata": {},
   "outputs": [],
   "source": [
    "%matplotlib inline\n",
    "\n",
    "df=pd.read_csv('Age_gender_info.csv')\n",
    "id_train = np.loadtxt(\"GEI_IDList_train.txt\", dtype='int32')\n",
    "\n"
   ]
  },
  {
   "cell_type": "code",
   "execution_count": 4,
   "metadata": {},
   "outputs": [],
   "source": [
    "df = df.sort_values(by=['ID']).reset_index(drop=True)"
   ]
  },
  {
   "cell_type": "code",
   "execution_count": 5,
   "metadata": {},
   "outputs": [
    {
     "data": {
      "text/html": [
       "<div>\n",
       "<style scoped>\n",
       "    .dataframe tbody tr th:only-of-type {\n",
       "        vertical-align: middle;\n",
       "    }\n",
       "\n",
       "    .dataframe tbody tr th {\n",
       "        vertical-align: top;\n",
       "    }\n",
       "\n",
       "    .dataframe thead th {\n",
       "        text-align: right;\n",
       "    }\n",
       "</style>\n",
       "<table border=\"1\" class=\"dataframe\">\n",
       "  <thead>\n",
       "    <tr style=\"text-align: right;\">\n",
       "      <th></th>\n",
       "      <th>ID</th>\n",
       "      <th>Age</th>\n",
       "      <th>Gender</th>\n",
       "    </tr>\n",
       "  </thead>\n",
       "  <tbody>\n",
       "    <tr>\n",
       "      <th>0</th>\n",
       "      <td>1</td>\n",
       "      <td>52</td>\n",
       "      <td>F</td>\n",
       "    </tr>\n",
       "    <tr>\n",
       "      <th>1</th>\n",
       "      <td>28</td>\n",
       "      <td>32</td>\n",
       "      <td>M</td>\n",
       "    </tr>\n",
       "    <tr>\n",
       "      <th>2</th>\n",
       "      <td>30</td>\n",
       "      <td>38</td>\n",
       "      <td>M</td>\n",
       "    </tr>\n",
       "    <tr>\n",
       "      <th>3</th>\n",
       "      <td>31</td>\n",
       "      <td>64</td>\n",
       "      <td>M</td>\n",
       "    </tr>\n",
       "    <tr>\n",
       "      <th>4</th>\n",
       "      <td>33</td>\n",
       "      <td>44</td>\n",
       "      <td>F</td>\n",
       "    </tr>\n",
       "    <tr>\n",
       "      <th>...</th>\n",
       "      <td>...</td>\n",
       "      <td>...</td>\n",
       "      <td>...</td>\n",
       "    </tr>\n",
       "    <tr>\n",
       "      <th>63841</th>\n",
       "      <td>95100</td>\n",
       "      <td>28</td>\n",
       "      <td>F</td>\n",
       "    </tr>\n",
       "    <tr>\n",
       "      <th>63842</th>\n",
       "      <td>95105</td>\n",
       "      <td>45</td>\n",
       "      <td>F</td>\n",
       "    </tr>\n",
       "    <tr>\n",
       "      <th>63843</th>\n",
       "      <td>95106</td>\n",
       "      <td>9</td>\n",
       "      <td>F</td>\n",
       "    </tr>\n",
       "    <tr>\n",
       "      <th>63844</th>\n",
       "      <td>95107</td>\n",
       "      <td>11</td>\n",
       "      <td>M</td>\n",
       "    </tr>\n",
       "    <tr>\n",
       "      <th>63845</th>\n",
       "      <td>95108</td>\n",
       "      <td>44</td>\n",
       "      <td>F</td>\n",
       "    </tr>\n",
       "  </tbody>\n",
       "</table>\n",
       "<p>63846 rows × 3 columns</p>\n",
       "</div>"
      ],
      "text/plain": [
       "          ID  Age Gender\n",
       "0          1   52      F\n",
       "1         28   32      M\n",
       "2         30   38      M\n",
       "3         31   64      M\n",
       "4         33   44      F\n",
       "...      ...  ...    ...\n",
       "63841  95100   28      F\n",
       "63842  95105   45      F\n",
       "63843  95106    9      F\n",
       "63844  95107   11      M\n",
       "63845  95108   44      F\n",
       "\n",
       "[63846 rows x 3 columns]"
      ]
     },
     "execution_count": 5,
     "metadata": {},
     "output_type": "execute_result"
    }
   ],
   "source": [
    "df"
   ]
  },
  {
   "cell_type": "code",
   "execution_count": null,
   "metadata": {},
   "outputs": [],
   "source": []
  },
  {
   "cell_type": "code",
   "execution_count": 18,
   "metadata": {},
   "outputs": [],
   "source": [
    "datadir = r\"C:/Users/Acer/FYP/GEI/\"\n",
    "IMG_SIZE = 80\n",
    "all_people = []\n",
    "df.ID = df.ID.astype(str)\n",
    "\n",
    "for index, data in df.iterrows():\n",
    "    id = data.ID\n",
    "    filename = os.path.join(datadir, '0'*(8-len(id)) + id + '.png')\n",
    "    img = cv2.imread(filename, cv2.IMREAD_GRAYSCALE)\n",
    "    img = cv2.resize(img,(IMG_SIZE,IMG_SIZE))\n",
    "    \n",
    "    gender = 0 if data.Gender == 'F' else 1\n",
    "    \n",
    "    age = data.Age\n",
    "    if age < 6:\n",
    "        age = 0\n",
    "    elif age < 11:\n",
    "        age = 1\n",
    "    elif age < 16:\n",
    "        age = 2\n",
    "    elif age < 61:\n",
    "        age = 3\n",
    "    else:\n",
    "        age = 4\n",
    "    \n",
    "    p = Person(id, filename, img, gender, age)\n",
    "    all_people.append(p)\n"
   ]
  },
  {
   "cell_type": "code",
   "execution_count": 17,
   "metadata": {},
   "outputs": [],
   "source": [
    "people_train = []\n",
    "people_test = []\n",
    "\n",
    "for p in all_people:\n",
    "    if int(p.id) in id_train:\n",
    "        people_train.append(p)\n",
    "    else:\n",
    "        people_test.append(p)"
   ]
  },
  {
   "cell_type": "code",
   "execution_count": null,
   "metadata": {},
   "outputs": [],
   "source": []
  },
  {
   "cell_type": "code",
   "execution_count": 15,
   "metadata": {},
   "outputs": [],
   "source": [
    "block_gender = tf.keras.models.load_model('model_OULP-Age/OULP-Age_gender.h5')\n",
    "\n",
    "block_F_age_group = tf.keras.models.load_model('model_OULP-Age/OULP-Age_F_age_group.h5')\n",
    "block_M_age_group = tf.keras.models.load_model('model_OULP-Age/OULP-Age_M_age_group.h5')\n",
    "\n",
    "block_F_group0 = tf.keras.models.load_model('model_OULP-Age/OULP-Age_F_group0.h5')\n",
    "block_F_group1 = tf.keras.models.load_model('model_OULP-Age/OULP-Age_F_group1.h5')\n",
    "block_F_group2 = tf.keras.models.load_model('model_OULP-Age/OULP-Age_F_group2.h5')\n",
    "block_F_group3 = tf.keras.models.load_model('model_OULP-Age/OULP-Age_F_group3.h5')\n",
    "block_F_group4 = tf.keras.models.load_model('model_OULP-Age/OULP-Age_F_group4.h5')\n",
    "\n",
    "block_M_group0 = tf.keras.models.load_model('model_OULP-Age/OULP-Age_M_group0.h5')\n",
    "block_M_group1 = tf.keras.models.load_model('model_OULP-Age/OULP-Age_M_group1.h5')\n",
    "block_M_group2 = tf.keras.models.load_model('model_OULP-Age/OULP-Age_M_group2.h5')\n",
    "block_M_group3 = tf.keras.models.load_model('model_OULP-Age/OULP-Age_M_group3.h5')\n",
    "block_M_group4 = tf.keras.models.load_model('model_OULP-Age/OULP-Age_M_group4.h5')"
   ]
  },
  {
   "cell_type": "code",
   "execution_count": 16,
   "metadata": {},
   "outputs": [],
   "source": [
    "model = {'model':block_gender}\n",
    "\n",
    "model_F = {'model':block_F_age_group, 0:block_F_group0, 1:block_F_group1, 2:block_F_group2, 3:block_F_group3, 4:block_F_group4}\n",
    "model_M = {'model':block_M_age_group, 0:block_M_group0, 1:block_M_group1, 2:block_M_group2, 3:block_M_group3, 4:block_M_group4}\n",
    "\n",
    "model.update({0:model_F, 1:model_M})\n"
   ]
  },
  {
   "cell_type": "code",
   "execution_count": 49,
   "metadata": {},
   "outputs": [],
   "source": [
    "category_gender = [\"F\",\"M\"]\n",
    "category_ageGroup = [\"0-5\",\"6-10\",\"11-15\",\"16-60\",\"Over 60\"]"
   ]
  },
  {
   "cell_type": "code",
   "execution_count": null,
   "metadata": {},
   "outputs": [],
   "source": [
    "start = timeit.default_timer()\n",
    "for p in all_people:\n",
    "    img = np.array(p.img).reshape(-1, IMG_SIZE,IMG_SIZE,1)\n",
    "    \n",
    "    predict_gender = model['model'].predict(img)\n",
    "    p.guessGender = np.argmax(predict_gender)\n",
    "    \n",
    "    predict_ageGroup = model[category_gender[p.guessGender]].predict(img)\n",
    "    p.guessAgeGroup = np.argmax(predict_ageGroup)\n",
    "    \n",
    "    predict_age = model[category_gender[p.guessGender]][category_ageGroup[p.guessAgeGroup]].predict(img)\n",
    "    p.guessAge = np.argmax(predict_age)\n",
    "        \n",
    "stop = timeit.default_timer()\n",
    "    "
   ]
  },
  {
   "cell_type": "code",
   "execution_count": 25,
   "metadata": {},
   "outputs": [
    {
     "name": "stdout",
     "output_type": "stream",
     "text": [
      "Prediction Time:  1 hours 1 mins\n"
     ]
    }
   ],
   "source": [
    "s = stop - start\n",
    "hours = ((stop - start)/60)/60\n",
    "mins = hours*60 - round(hours)*60\n",
    "\n",
    "print('Prediction Time: ', round(hours), 'hours', round(mins), 'mins')"
   ]
  },
  {
   "cell_type": "code",
   "execution_count": null,
   "metadata": {},
   "outputs": [],
   "source": []
  },
  {
   "cell_type": "markdown",
   "metadata": {},
   "source": [
    "# Saving results to a .csv file"
   ]
  },
  {
   "cell_type": "code",
   "execution_count": 32,
   "metadata": {},
   "outputs": [],
   "source": [
    "col = ['id', 'filename', 'gender', 'age', 'guessGender', 'guessAge']\n",
    "pred_prople = []\n",
    "for p in all_people:\n",
    "    filename = p.filename.split('/FYP/')[1]\n",
    "    pred_prople.append([p.id,filename,p.gender,p.age,p.guessGender,p.guessAge])\n",
    "\n",
    "df_pred_prople = DataFrame(pred_prople, columns = col)\n",
    "df_pred_prople.to_csv('C:/Users/Acer/FYP/Predicted_Result.csv',index=0)"
   ]
  },
  {
   "cell_type": "code",
   "execution_count": 34,
   "metadata": {},
   "outputs": [],
   "source": [
    "df_pred_prople.to_csv('C:/Users/Acer/FYP/Predicted_Result.csv',index=0)"
   ]
  },
  {
   "cell_type": "code",
   "execution_count": null,
   "metadata": {},
   "outputs": [],
   "source": []
  },
  {
   "cell_type": "markdown",
   "metadata": {},
   "source": [
    "# Truth table of gender"
   ]
  },
  {
   "cell_type": "code",
   "execution_count": 19,
   "metadata": {},
   "outputs": [],
   "source": [
    "truth_table_gender = {}\n",
    "df_gender = []\n",
    "total = [0] * (len(category_gender) + 1)\n",
    "\n",
    "for c in category_gender:\n",
    "    truth_table_gender[c] = {}\n",
    "    for c2 in category_gender:\n",
    "        truth_table_gender[c][c2] = 0\n",
    "        \n",
    "for p in people_test:\n",
    "    truth_table_gender[category_gender[p.guessGender]][category_gender[p.gender]]+=1\n",
    "\n",
    "for gender in truth_table_gender:\n",
    "    temp = []\n",
    "    index = 0\n",
    "    count = 0\n",
    "    for key in truth_table_gender[gender]:\n",
    "        temp.append(truth_table_gender[gender][key])\n",
    "        count+=truth_table_gender[gender][key]\n",
    "        total[index]+=truth_table_gender[gender][key]\n",
    "        index+=1\n",
    "    total[len(total) - 1]+=count\n",
    "    temp.append(count)\n",
    "    df_gender.append(temp)\n",
    "df_gender.append(total)"
   ]
  },
  {
   "cell_type": "code",
   "execution_count": 20,
   "metadata": {},
   "outputs": [
    {
     "data": {
      "text/plain": [
       "[[15957, 356, 16313], [469, 15141, 15610], [16426, 15497, 31923]]"
      ]
     },
     "execution_count": 20,
     "metadata": {},
     "output_type": "execute_result"
    }
   ],
   "source": [
    "df_gender"
   ]
  },
  {
   "cell_type": "code",
   "execution_count": 21,
   "metadata": {
    "scrolled": true
   },
   "outputs": [
    {
     "name": "stdout",
     "output_type": "stream",
     "text": [
      "+-----------+-------+-------+-------+\n",
      "| Truth --> |   F   |   M   | Total |\n",
      "|           |       |       |       |\n",
      "|  Predict  |       |       |       |\n",
      "+-----------+-------+-------+-------+\n",
      "|     F     | 15957 |  356  | 16313 |\n",
      "+-----------+-------+-------+-------+\n",
      "|     M     |  469  | 15141 | 15610 |\n",
      "+-----------+-------+-------+-------+\n",
      "|   Total   | 16426 | 15497 | 31923 |\n",
      "+-----------+-------+-------+-------+\n"
     ]
    }
   ],
   "source": [
    "columns = deepcopy(category_gender)\n",
    "columns.insert(0,'Truth -->\\n\\nPredict')\n",
    "columns.append('Total')\n",
    "for i in range(0, len(columns)):\n",
    "    columns[i] = str(columns[i])\n",
    "\n",
    "table = BeautifulTable()\n",
    "table.columns.header = columns\n",
    "for i in range(0,len(df_gender)):\n",
    "    df_gender[i].insert(0,columns[i+1])\n",
    "    table.rows.append(df_gender[i])\n",
    "\n",
    "table.maxwidth = 150\n",
    "print(table)"
   ]
  },
  {
   "cell_type": "code",
   "execution_count": null,
   "metadata": {},
   "outputs": [],
   "source": []
  },
  {
   "cell_type": "code",
   "execution_count": 22,
   "metadata": {},
   "outputs": [
    {
     "name": "stdout",
     "output_type": "stream",
     "text": [
      "+-----------+-------+-------+-------+\n",
      "| Truth --> |   F   |   M   | Total |\n",
      "|           |       |       |       |\n",
      "|  Predict  |       |       |       |\n",
      "+-----------+-------+-------+-------+\n",
      "|     F     | 15704 |  750  | 16454 |\n",
      "+-----------+-------+-------+-------+\n",
      "|     M     |  722  | 14747 | 15469 |\n",
      "+-----------+-------+-------+-------+\n",
      "|   Total   | 16426 | 15497 | 31923 |\n",
      "+-----------+-------+-------+-------+\n"
     ]
    }
   ],
   "source": [
    "table = BeautifulTable()\n",
    "table.columns.header = ['Truth -->\\n\\nPredict','F','M','Total']\n",
    "table.rows.append(['F',15704,750,16454])\n",
    "table.rows.append(['M',722,14747,15469])\n",
    "table.rows.append(['Total',16426,15497,31923])\n",
    "\n",
    "table.maxwidth = 150\n",
    "print(table)"
   ]
  },
  {
   "cell_type": "code",
   "execution_count": null,
   "metadata": {},
   "outputs": [],
   "source": []
  },
  {
   "cell_type": "markdown",
   "metadata": {},
   "source": [
    "# Truth table of age group"
   ]
  },
  {
   "cell_type": "code",
   "execution_count": 53,
   "metadata": {},
   "outputs": [],
   "source": [
    "truth_table_ageGroup = {}\n",
    "df_ageGroup = []\n",
    "total = [0] * (len(category_ageGroup) + 1)\n",
    "\n",
    "for c in category_ageGroup:\n",
    "    truth_table_ageGroup[c] = {}\n",
    "    for c2 in category_ageGroup:\n",
    "        truth_table_ageGroup[c][c2] = 0\n",
    "        \n",
    "for p in all_people:\n",
    "    if p.age == '-':\n",
    "        continue\n",
    "    truth_table_ageGroup[category_ageGroup[p.guessAgeGroup]][category_ageGroup[p.ageGroup]]+=1\n",
    "\n",
    "for ageGroup in truth_table_ageGroup:\n",
    "    temp = []\n",
    "    index = 0\n",
    "    count = 0\n",
    "    for key in truth_table_ageGroup[ageGroup]:\n",
    "        temp.append(truth_table_ageGroup[ageGroup][key])\n",
    "        count+=truth_table_ageGroup[ageGroup][key]\n",
    "        total[index]+=truth_table_ageGroup[ageGroup][key]\n",
    "        index+=1\n",
    "    total[len(total) - 1]+=count\n",
    "    temp.append(count)\n",
    "    df_ageGroup.append(temp)\n",
    "df_ageGroup.append(total)"
   ]
  },
  {
   "cell_type": "code",
   "execution_count": 54,
   "metadata": {},
   "outputs": [
    {
     "name": "stdout",
     "output_type": "stream",
     "text": [
      "Male\n",
      "+-----------+------+------+-------+-------+---------+-------+\n",
      "| Truth --> | 0-5  | 6-10 | 11-15 | 16-60 | Over 60 | Total |\n",
      "|           |      |      |       |       |         |       |\n",
      "|  Predict  |      |      |       |       |         |       |\n",
      "+-----------+------+------+-------+-------+---------+-------+\n",
      "|    0-5    | 1315 | 248  |   3   |   2   |    2    | 1570  |\n",
      "+-----------+------+------+-------+-------+---------+-------+\n",
      "|   6-10    | 245  | 8571 |  611  |  72   |   15    | 9514  |\n",
      "+-----------+------+------+-------+-------+---------+-------+\n",
      "|   11-15   |  4   | 633  | 6691  |  842  |   50    | 8220  |\n",
      "+-----------+------+------+-------+-------+---------+-------+\n",
      "|   16-60   |  10  | 197  | 1401  | 41031 |   605   | 43244 |\n",
      "+-----------+------+------+-------+-------+---------+-------+\n",
      "|  Over 60  |  0   |  5   |  18   |  163  |  1112   | 1298  |\n",
      "+-----------+------+------+-------+-------+---------+-------+\n",
      "|   Total   | 1574 | 9654 | 8724  | 42110 |  1784   | 63846 |\n",
      "+-----------+------+------+-------+-------+---------+-------+\n"
     ]
    }
   ],
   "source": [
    "columns = deepcopy(category_ageGroup)\n",
    "columns.insert(0,'Truth -->\\n\\nPredict')\n",
    "columns.append('Total')\n",
    "for i in range(0, len(columns)):\n",
    "    columns[i] = str(columns[i])\n",
    "\n",
    "table = BeautifulTable()\n",
    "table.columns.header = columns\n",
    "for i in range(0,len(df_ageGroup)):\n",
    "    df_ageGroup[i].insert(0,columns[i+1])\n",
    "    table.rows.append(df_ageGroup[i])\n",
    "\n",
    "table.maxwidth = 150\n",
    "\n",
    "print('Male')\n",
    "print(table)"
   ]
  },
  {
   "cell_type": "code",
   "execution_count": null,
   "metadata": {},
   "outputs": [],
   "source": []
  },
  {
   "cell_type": "code",
   "execution_count": 37,
   "metadata": {},
   "outputs": [],
   "source": [
    "truth_table_ageGroup = {}\n",
    "df_ageGroup = []\n",
    "total = [0] * (len(category_ageGroup) + 1)\n",
    "\n",
    "for c in category_ageGroup:\n",
    "    truth_table_ageGroup[c] = {}\n",
    "    for c2 in category_ageGroup:\n",
    "        truth_table_ageGroup[c][c2] = 0\n",
    "        \n",
    "for p in people_test:\n",
    "    if p.age == '-' or p.guessGender == 0:\n",
    "        continue\n",
    "    truth_table_ageGroup[category_ageGroup[p.guessAgeGroup]][category_ageGroup[p.ageGroup]]+=1\n",
    "\n",
    "for ageGroup in truth_table_ageGroup:\n",
    "    temp = []\n",
    "    index = 0\n",
    "    count = 0\n",
    "    for key in truth_table_ageGroup[ageGroup]:\n",
    "        temp.append(truth_table_ageGroup[ageGroup][key])\n",
    "        count+=truth_table_ageGroup[ageGroup][key]\n",
    "        total[index]+=truth_table_ageGroup[ageGroup][key]\n",
    "        index+=1\n",
    "    total[len(total) - 1]+=count\n",
    "    temp.append(count)\n",
    "    df_ageGroup.append(temp)\n",
    "df_ageGroup.append(total)"
   ]
  },
  {
   "cell_type": "code",
   "execution_count": 38,
   "metadata": {},
   "outputs": [
    {
     "name": "stdout",
     "output_type": "stream",
     "text": [
      "+-----------+-----+------+-------+-------+---------+-------+\n",
      "| Truth --> | 0-5 | 6-10 | 11-15 | 16-60 | Over 60 | Total |\n",
      "|           |     |      |       |       |         |       |\n",
      "|  Predict  |     |      |       |       |         |       |\n",
      "+-----------+-----+------+-------+-------+---------+-------+\n",
      "|    0-5    | 210 | 116  |   1   |   0   |    1    |  328  |\n",
      "+-----------+-----+------+-------+-------+---------+-------+\n",
      "|   6-10    | 98  | 1839 |  352  |  19   |   13    | 2321  |\n",
      "+-----------+-----+------+-------+-------+---------+-------+\n",
      "|   11-15   |  0  | 329  | 1232  |  356  |   42    | 1959  |\n",
      "+-----------+-----+------+-------+-------+---------+-------+\n",
      "|   16-60   |  0  |  66  |  577  | 9783  |   337   | 10763 |\n",
      "+-----------+-----+------+-------+-------+---------+-------+\n",
      "|  Over 60  |  0  |  3   |   8   |  84   |   144   |  239  |\n",
      "+-----------+-----+------+-------+-------+---------+-------+\n",
      "|   Total   | 308 | 2353 | 2170  | 10242 |   537   | 15610 |\n",
      "+-----------+-----+------+-------+-------+---------+-------+\n"
     ]
    }
   ],
   "source": [
    "columns = deepcopy(category_ageGroup)\n",
    "columns.insert(0,'Truth -->\\n\\nPredict')\n",
    "columns.append('Total')\n",
    "for i in range(0, len(columns)):\n",
    "    columns[i] = str(columns[i])\n",
    "\n",
    "table = BeautifulTable()\n",
    "table.columns.header = columns\n",
    "for i in range(0,len(df_ageGroup)):\n",
    "    df_ageGroup[i].insert(0,columns[i+1])\n",
    "    table.rows.append(df_ageGroup[i])\n",
    "\n",
    "table.maxwidth = 150\n",
    "\n",
    "print(table)"
   ]
  },
  {
   "cell_type": "code",
   "execution_count": null,
   "metadata": {},
   "outputs": [],
   "source": []
  },
  {
   "cell_type": "code",
   "execution_count": 34,
   "metadata": {},
   "outputs": [],
   "source": [
    "truth_table_ageGroup = {}\n",
    "df_ageGroup = []\n",
    "total = [0] * (len(category_ageGroup) + 1)\n",
    "\n",
    "for c in category_ageGroup:\n",
    "    truth_table_ageGroup[c] = {}\n",
    "    for c2 in category_ageGroup:\n",
    "        truth_table_ageGroup[c][c2] = 0\n",
    "        \n",
    "for p in people_test:\n",
    "    truth_table_ageGroup[category_ageGroup[p.guessAgeGroup]][category_ageGroup[p.ageGroup]]+=1\n",
    "\n",
    "for ageGroup in truth_table_ageGroup:\n",
    "    temp = []\n",
    "    index = 0\n",
    "    count = 0\n",
    "    for key in truth_table_ageGroup[ageGroup]:\n",
    "        temp.append(truth_table_ageGroup[ageGroup][key])\n",
    "        count+=truth_table_ageGroup[ageGroup][key]\n",
    "        total[index]+=truth_table_ageGroup[ageGroup][key]\n",
    "        index+=1\n",
    "    total[len(total) - 1]+=count\n",
    "    temp.append(count)\n",
    "    df_ageGroup.append(temp)\n",
    "df_ageGroup.append(total)"
   ]
  },
  {
   "cell_type": "code",
   "execution_count": 35,
   "metadata": {},
   "outputs": [
    {
     "name": "stdout",
     "output_type": "stream",
     "text": [
      "+-----------+-----+------+-------+-------+---------+-------+\n",
      "| Truth --> | 0-5 | 6-10 | 11-15 | 16-60 | Over 60 | Total |\n",
      "|           |     |      |       |       |         |       |\n",
      "|  Predict  |     |      |       |       |         |       |\n",
      "+-----------+-----+------+-------+-------+---------+-------+\n",
      "|    0-5    | 491 | 248  |   3   |   1   |    1    |  744  |\n",
      "+-----------+-----+------+-------+-------+---------+-------+\n",
      "|   6-10    | 241 | 3833 |  610  |  72   |   15    | 4771  |\n",
      "+-----------+-----+------+-------+-------+---------+-------+\n",
      "|   11-15   |  4  | 633  | 2320  |  842  |   50    | 3849  |\n",
      "+-----------+-----+------+-------+-------+---------+-------+\n",
      "|   16-60   |  8  | 195  | 1400  | 19890 |   604   | 22097 |\n",
      "+-----------+-----+------+-------+-------+---------+-------+\n",
      "|  Over 60  |  0  |  5   |  18   |  162  |   277   |  462  |\n",
      "+-----------+-----+------+-------+-------+---------+-------+\n",
      "|   Total   | 744 | 4914 | 4351  | 20967 |   947   | 31923 |\n",
      "+-----------+-----+------+-------+-------+---------+-------+\n"
     ]
    }
   ],
   "source": [
    "columns = deepcopy(category_ageGroup)\n",
    "columns.insert(0,'Truth -->\\n\\nPredict')\n",
    "columns.append('Total')\n",
    "for i in range(0, len(columns)):\n",
    "    columns[i] = str(columns[i])\n",
    "\n",
    "table = BeautifulTable()\n",
    "table.columns.header = columns\n",
    "for i in range(0,len(df_ageGroup)):\n",
    "    df_ageGroup[i].insert(0,columns[i+1])\n",
    "    table.rows.append(df_ageGroup[i])\n",
    "\n",
    "table.maxwidth = 150\n",
    "\n",
    "print(table)"
   ]
  },
  {
   "cell_type": "code",
   "execution_count": null,
   "metadata": {},
   "outputs": [],
   "source": []
  },
  {
   "cell_type": "code",
   "execution_count": 39,
   "metadata": {},
   "outputs": [
    {
     "name": "stdout",
     "output_type": "stream",
     "text": [
      "+-----------+-----+------+-------+-------+---------+-------+\n",
      "| Truth --> | 0-5 | 6-10 | 11-15 | 16-60 | Over 60 | Total |\n",
      "|           |     |      |       |       |         |       |\n",
      "|  Predict  |     |      |       |       |         |       |\n",
      "+-----------+-----+------+-------+-------+---------+-------+\n",
      "|    0-5    | 266 | 212  |   1   |   1   |    0    |  480  |\n",
      "+-----------+-----+------+-------+-------+---------+-------+\n",
      "|   6-10    | 36  | 1912 |  350  |   4   |    9    | 2311  |\n",
      "+-----------+-----+------+-------+-------+---------+-------+\n",
      "|   11-15   |  0  | 213  | 1209  |  120  |   15    | 1557  |\n",
      "+-----------+-----+------+-------+-------+---------+-------+\n",
      "|   16-60   |  0  |  17  |  604  | 9969  |   244   | 10834 |\n",
      "+-----------+-----+------+-------+-------+---------+-------+\n",
      "| Over 60   |  0  |  0   |   9   |  137  |   266   |  412  |\n",
      "+-----------+-----+------+-------+-------+---------+-------+\n",
      "|   Total   | 305 | 2354 | 2173  | 10231 |   534   | 15594 |\n",
      "+-----------+-----+------+-------+-------+---------+-------+\n"
     ]
    }
   ],
   "source": [
    "table = BeautifulTable()\n",
    "table.columns.header = ['Truth -->\\n\\nPredict','0-5','6-10','11-15', '16-60','Over 60','Total']\n",
    "table.rows.append(['0-5',266,212,1,1,0,480])\n",
    "table.rows.append(['6-10',36,1912,350,4,9,2311])\n",
    "table.rows.append(['11-15',0,213,1209,120,15,1557])\n",
    "table.rows.append(['16-60',0,17,604,9969,244,10834])\n",
    "table.rows.append(['Over 60 ',0,0,9,137,266,412])\n",
    "table.rows.append(['Total',305,2354,2173,10231,534,15594])\n",
    "\n",
    "table.maxwidth = 150\n",
    "print(table)"
   ]
  },
  {
   "cell_type": "code",
   "execution_count": null,
   "metadata": {},
   "outputs": [],
   "source": []
  },
  {
   "cell_type": "code",
   "execution_count": null,
   "metadata": {},
   "outputs": [],
   "source": []
  },
  {
   "cell_type": "code",
   "execution_count": null,
   "metadata": {},
   "outputs": [],
   "source": []
  },
  {
   "cell_type": "markdown",
   "metadata": {},
   "source": [
    "# Other table"
   ]
  },
  {
   "cell_type": "code",
   "execution_count": 11,
   "metadata": {},
   "outputs": [],
   "source": [
    "young = []\n",
    "old = []\n",
    "for p in all_people:\n",
    "    if p.age <= 60:\n",
    "        young.append(p)\n",
    "    else:\n",
    "        old.append(p)\n",
    "    "
   ]
  },
  {
   "cell_type": "code",
   "execution_count": 29,
   "metadata": {},
   "outputs": [],
   "source": [
    "TY = 0\n",
    "FY = 0\n",
    "TO = 0\n",
    "FO = 0\n",
    "\n",
    "for p in young:\n",
    "    if p.guessAge <= 60:\n",
    "        TY+=1\n",
    "    else:\n",
    "        FY+=1\n",
    "        \n",
    "for p in old:\n",
    "    if p.guessAge > 60:\n",
    "        TO+=1\n",
    "    else:\n",
    "        FO+=1\n"
   ]
  },
  {
   "cell_type": "code",
   "execution_count": 32,
   "metadata": {},
   "outputs": [],
   "source": [
    "RecallYoung = TY/(TY+FO)\n",
    "RecallElder = TO/(TO+FY)\n",
    "PrecisionYoung = TY/(TY+FY)\n",
    "PrecisionElder = TO/(TO+FO)\n",
    "CCR = (TY+TO)/(TO+FO+TY+FY)"
   ]
  },
  {
   "cell_type": "code",
   "execution_count": 46,
   "metadata": {},
   "outputs": [
    {
     "name": "stdout",
     "output_type": "stream",
     "text": [
      " RecallYoung: 98.93 %\n",
      " RecallElder: 85.67 %\n",
      " PrecisionYoung: 99.7 %\n",
      " PrecisionElder: 62.33 %\n",
      " CCR: 98.66 %\n"
     ]
    }
   ],
   "source": [
    "print(\n",
    "    \" RecallYoung:\",round(RecallYoung*100,2),'%\\n',\n",
    "    \"RecallElder:\",round(RecallElder*100,2),'%\\n',\n",
    "    \"PrecisionYoung:\",round(PrecisionYoung*100,2),'%\\n',\n",
    "    \"PrecisionElder:\",round(PrecisionElder*100,2),'%\\n',\n",
    "    \"CCR:\",round(CCR*100,2),'%')"
   ]
  },
  {
   "cell_type": "code",
   "execution_count": null,
   "metadata": {},
   "outputs": [],
   "source": []
  },
  {
   "cell_type": "markdown",
   "metadata": {},
   "source": [
    "# Eveluate age"
   ]
  },
  {
   "cell_type": "code",
   "execution_count": 24,
   "metadata": {},
   "outputs": [
    {
     "data": {
      "text/plain": [
       "{'age group': {'0-5': 0, '6-10': 0, '11-15': 0, '16-60': 0, 'Over 60': 0}}"
      ]
     },
     "execution_count": 24,
     "metadata": {},
     "output_type": "execute_result"
    }
   ],
   "source": [
    "MAE = {}\n",
    "MAE['age group']={}\n",
    "for c in category_ageGroup:\n",
    "    MAE['age group'][c]=0\n",
    "MAE"
   ]
  },
  {
   "cell_type": "code",
   "execution_count": 25,
   "metadata": {},
   "outputs": [],
   "source": [
    "length = [0,0,0,0,0]\n",
    "mean = 0\n",
    "\n",
    "for p in all_people:\n",
    "    MAE['age group'][category_ageGroup[p.ageGroup]]+=abs(p.age-p.guessAge)\n",
    "    length[p.ageGroup]+=1\n",
    "    \n",
    "for group in MAE['age group']:\n",
    "    mean += MAE['age group'][group]\n",
    "    MAE['age group'][group] = MAE['age group'][group]/length[p.ageGroup]\n",
    "\n",
    "MAE['age group']['mean'] = mean/len(all_people)\n",
    "\n",
    "for group in MAE['age group']:\n",
    "    MAE['age group'][group] = round(MAE['age group'][group],2)\n"
   ]
  },
  {
   "cell_type": "code",
   "execution_count": 26,
   "metadata": {},
   "outputs": [
    {
     "name": "stdout",
     "output_type": "stream",
     "text": [
      "+-----+------+------+-------+-------+---------+------+\n",
      "|     | 0-5  | 6-10 | 11-15 | 16-60 | Over 60 | Mean |\n",
      "+-----+------+------+-------+-------+---------+------+\n",
      "| MAE | 0.02 | 0.21 | 0.35  | 8.81  |   0.6   | 6.6  |\n",
      "+-----+------+------+-------+-------+---------+------+\n"
     ]
    }
   ],
   "source": [
    "Metrics = []\n",
    "for group in MAE['age group']:\n",
    "    Metrics.append(MAE['age group'][group])\n",
    "\n",
    "columns = deepcopy(category_ageGroup)\n",
    "columns.append('Mean')\n",
    "for i in range(0, len(columns)):\n",
    "    columns[i] = str(columns[i])\n",
    "\n",
    "table = BeautifulTable()\n",
    "table.columns.header = columns\n",
    "table.rows.append(Metrics)\n",
    "table.rows.header = [\"MAE\"]\n",
    "table.maxwidth = 150\n",
    "print(table)"
   ]
  },
  {
   "cell_type": "code",
   "execution_count": null,
   "metadata": {},
   "outputs": [],
   "source": []
  },
  {
   "cell_type": "code",
   "execution_count": 27,
   "metadata": {},
   "outputs": [
    {
     "data": {
      "text/plain": [
       "{'age group': {'0-5': 0.02,\n",
       "  '6-10': 0.21,\n",
       "  '11-15': 0.35,\n",
       "  '16-60': 8.81,\n",
       "  'Over 60': 0.6,\n",
       "  'mean': 6.6},\n",
       " 'gender': {'F': 0, 'M': 0}}"
      ]
     },
     "execution_count": 27,
     "metadata": {},
     "output_type": "execute_result"
    }
   ],
   "source": [
    "MAE['gender']={}\n",
    "for c in category_gender:\n",
    "    MAE['gender'][c]=0\n",
    "MAE"
   ]
  },
  {
   "cell_type": "code",
   "execution_count": 28,
   "metadata": {},
   "outputs": [],
   "source": [
    "length = [0,0]\n",
    "mean = 0\n",
    "\n",
    "for p in all_people:\n",
    "    MAE['gender'][category_gender[p.gender]]+=abs(p.age-p.guessAge)\n",
    "    length[p.gender]+=1\n",
    "    \n",
    "for group in MAE['gender']:\n",
    "    mean += MAE['gender'][group]\n",
    "    MAE['gender'][group] = MAE['gender'][group]/length[p.gender]\n",
    "\n",
    "MAE['gender']['mean'] = mean/len(all_people)\n",
    "\n",
    "for group in MAE['gender']:\n",
    "    MAE['gender'][group] = round(MAE['gender'][group],2)"
   ]
  },
  {
   "cell_type": "code",
   "execution_count": 29,
   "metadata": {},
   "outputs": [
    {
     "name": "stdout",
     "output_type": "stream",
     "text": [
      "+-----+------+------+------+\n",
      "|     |  F   |  M   | Mean |\n",
      "+-----+------+------+------+\n",
      "| MAE | 6.73 | 6.13 | 6.6  |\n",
      "+-----+------+------+------+\n"
     ]
    }
   ],
   "source": [
    "Metrics = []\n",
    "for group in MAE['gender']:\n",
    "    Metrics.append(MAE['gender'][group])\n",
    "\n",
    "columns = deepcopy(category_gender)\n",
    "columns.append('Mean')\n",
    "for i in range(0, len(columns)):\n",
    "    columns[i] = str(columns[i])\n",
    "\n",
    "table = BeautifulTable()\n",
    "table.columns.header = columns\n",
    "table.rows.append(Metrics)\n",
    "table.rows.header = [\"MAE\"]\n",
    "table.maxwidth = 150\n",
    "print(table)"
   ]
  },
  {
   "cell_type": "code",
   "execution_count": null,
   "metadata": {},
   "outputs": [],
   "source": []
  },
  {
   "cell_type": "code",
   "execution_count": 30,
   "metadata": {},
   "outputs": [
    {
     "name": "stdout",
     "output_type": "stream",
     "text": [
      "+-----+------+-----+------+\n",
      "|     |  F   |  M  | Mean |\n",
      "+-----+------+-----+------+\n",
      "| MAE | 6.07 | 5.6 | 5.84 |\n",
      "+-----+------+-----+------+\n"
     ]
    }
   ],
   "source": [
    "table = BeautifulTable()\n",
    "table.columns.header = ['','F','M','Mean']\n",
    "table.rows.append(['MAE',6.07,5.6,5.84])\n",
    "\n",
    "table.maxwidth = 150\n",
    "print(table)"
   ]
  },
  {
   "cell_type": "code",
   "execution_count": 31,
   "metadata": {},
   "outputs": [
    {
     "name": "stdout",
     "output_type": "stream",
     "text": [
      "+----------------+------+------+------+------+------+------+------+-------+------+------+------+------+------+------+------+\n",
      "|      MAE       |  0   |  15  |  30  |  45  |  60  |  75  |  90  |  180  | 195  | 210  | 225  | 240  | 255  | 270  | Mean |\n",
      "+----------------+------+------+------+------+------+------+------+-------+------+------+------+------+------+------+------+\n",
      "| Paper's Method | 8.91 | 8.83 | 8.27 | 8.48 | 8.35 | 8.08 | 7.83 | 9.24  | 8.86 | 8.61 | 8.48 | 8.11 | 7.88 | 7.75 | 8.39 |\n",
      "+----------------+------+------+------+------+------+------+------+-------+------+------+------+------+------+------+------+\n",
      "|   Our Method   | 9.97 | 9.94 | 6.34 | 6.34 | 6.39 | 6.09 | 6.21 | 10.52 | 9.85 | 6.32 | 6.26 | 6.5  | 6.34 | 6.47 | 7.4  |\n",
      "+----------------+------+------+------+------+------+------+------+-------+------+------+------+------+------+------+------+\n"
     ]
    }
   ],
   "source": [
    "table = BeautifulTable()\n",
    "table.columns.header = ['MAE','0','15','30','45','60','75','90','180','195','210','225','240','255','270','Mean']\n",
    "table.rows.append([\"Paper's Method\",8.91,8.83,8.27,8.48,8.35,8.08,7.83,9.24,8.86,8.61,8.48,8.11,7.88,7.75,8.39])\n",
    "table.rows.append([\"Our Method\",9.97,9.94,6.34,6.34,6.39,6.09,6.21,10.52,9.85,6.32,6.26,6.5,6.34,6.47,7.4])\n",
    "\n",
    "table.maxwidth = 150\n",
    "print(table)"
   ]
  },
  {
   "cell_type": "code",
   "execution_count": null,
   "metadata": {},
   "outputs": [],
   "source": []
  },
  {
   "cell_type": "markdown",
   "metadata": {},
   "source": [
    "# Percentage of each results"
   ]
  },
  {
   "cell_type": "code",
   "execution_count": null,
   "metadata": {},
   "outputs": [],
   "source": []
  },
  {
   "cell_type": "code",
   "execution_count": 17,
   "metadata": {},
   "outputs": [],
   "source": [
    "corr_count_gender = 0\n",
    "corr_count_ageGroup = 0\n",
    "two_corr = 0\n",
    "\n",
    "for p in people_test:\n",
    "    count = 0\n",
    "    if p.gender == p.guessGender:\n",
    "        corr_count_gender+=1\n",
    "        count+=1\n",
    "    \n",
    "    if p.ageGroup == p.guessAgeGroup:\n",
    "        corr_count_ageGroup+=1\n",
    "        count+=1\n",
    "        \n",
    "    if count == 2:\n",
    "        two_corr+=1\n",
    "         \n",
    "acc_gender = corr_count_gender/len(people_test)\n",
    "acc_ageGroup = corr_count_ageGroup/len(people_test)\n",
    "two_corr = two_corr/len(people_test)\n",
    "\n",
    "avg_acc = (acc_gender+acc_ageGroup)/2\n"
   ]
  },
  {
   "cell_type": "code",
   "execution_count": 18,
   "metadata": {},
   "outputs": [
    {
     "name": "stdout",
     "output_type": "stream",
     "text": [
      "Accuracy of Predicting gender is: 97.42%\n",
      "Accuracy of Predicting age is: 83.99% \n",
      "\n",
      "Accuracy of Two layers passed at the same time: 82.31%\n",
      "The Average Accuracy: 90.7%\n"
     ]
    }
   ],
   "source": [
    "print(\"Accuracy of Predicting gender is: \" + str(round(acc_gender*100,2)) + '%')\n",
    "print(\"Accuracy of Predicting age is: \" + str(round(acc_ageGroup*100,2)) + '%','\\n')\n",
    "\n",
    "print(\"Accuracy of Two layers passed at the same time: \" + str(round(two_corr*100,2)) + '%')\n",
    "print(\"The Average Accuracy: \" + str(round(avg_acc*100,2)) + '%')"
   ]
  },
  {
   "cell_type": "code",
   "execution_count": null,
   "metadata": {},
   "outputs": [],
   "source": []
  },
  {
   "cell_type": "markdown",
   "metadata": {},
   "source": [
    "# Calculate SD"
   ]
  },
  {
   "cell_type": "code",
   "execution_count": 39,
   "metadata": {},
   "outputs": [
    {
     "data": {
      "text/plain": [
       "6.6"
      ]
     },
     "execution_count": 39,
     "metadata": {},
     "output_type": "execute_result"
    }
   ],
   "source": [
    "MAE['age group']['mean']"
   ]
  },
  {
   "cell_type": "code",
   "execution_count": 42,
   "metadata": {},
   "outputs": [],
   "source": [
    "sumation = 0\n",
    "for p in all_people:\n",
    "    sumation+=(abs(p.age-p.guessAge) - MAE['age group']['mean']) ** 2\n",
    "\n",
    "SD = math.sqrt(sumation/(len(all_people)-1))"
   ]
  },
  {
   "cell_type": "code",
   "execution_count": 44,
   "metadata": {},
   "outputs": [
    {
     "name": "stdout",
     "output_type": "stream",
     "text": [
      "8.551075863648194\n"
     ]
    }
   ],
   "source": [
    "print(SD)"
   ]
  },
  {
   "cell_type": "markdown",
   "metadata": {},
   "source": [
    "# ========================="
   ]
  },
  {
   "cell_type": "code",
   "execution_count": 4,
   "metadata": {},
   "outputs": [
    {
     "name": "stdout",
     "output_type": "stream",
     "text": [
      "+-------------------+------------------+-------------+---------+-------+\n",
      "|       Layer       | Output dimension | Kernel size | Strides | Units |\n",
      "+-------------------+------------------+-------------+---------+-------+\n",
      "|     Conv 2D a     |        81        |     5x5     |    1    |   -   |\n",
      "+-------------------+------------------+-------------+---------+-------+\n",
      "|   Batch Norm a    |        -         |      -      |    -    |   -   |\n",
      "+-------------------+------------------+-------------+---------+-------+\n",
      "|   Max Pooling a   |        -         |     3x3     |    2    |   -   |\n",
      "+-------------------+------------------+-------------+---------+-------+\n",
      "|     Conv 2D b     |        45        |     7x7     |    1    |   -   |\n",
      "+-------------------+------------------+-------------+---------+-------+\n",
      "|   Batch Norm b    |        -         |      -      |    -    |   -   |\n",
      "+-------------------+------------------+-------------+---------+-------+\n",
      "|   Max Pooling b   |        -         |     2x2     |    2    |   -   |\n",
      "+-------------------+------------------+-------------+---------+-------+\n",
      "|   Flatten Layer   |        -         |      -      |    -    |   -   |\n",
      "+-------------------+------------------+-------------+---------+-------+\n",
      "| Densely-Connected |        -         |      -      |    -    | 1024  |\n",
      "+-------------------+------------------+-------------+---------+-------+\n",
      "|   Batch Norm c    |        -         |      -      |    -    |   -   |\n",
      "+-------------------+------------------+-------------+---------+-------+\n",
      "|   Output Layer    |        -         |      -      |    -    |   2   |\n",
      "+-------------------+------------------+-------------+---------+-------+\n"
     ]
    }
   ],
   "source": [
    "table = BeautifulTable()\n",
    "table.rows.append(['Layer', 'Output dimension', 'Kernel size', 'Strides','Units'])\n",
    "table.rows.append(['Conv 2D a', '81', '5x5', '1', '-'])\n",
    "table.rows.append(['Batch Norm a', '-', '-', '-', '-'])\n",
    "table.rows.append(['Max Pooling a', '-', '3x3', '2', '-'])\n",
    "table.rows.append(['Conv 2D b', '45', '7x7', '1', '-'])\n",
    "table.rows.append(['Batch Norm b', '-', '-', '-', '-'])\n",
    "table.rows.append(['Max Pooling b', '-', '2x2', '2', '-'])\n",
    "table.rows.append(['Flatten Layer', '-', '-', '-', '-'])\n",
    "table.rows.append(['Densely-Connected', '-', '-', '-', '1024'])\n",
    "table.rows.append(['Batch Norm c', '-', '-', '-', '-'])\n",
    "table.rows.append(['Output Layer', '-', '-', '-', '2'])\n",
    "\n",
    "#table.maxwidth = 150\n",
    "print(table)"
   ]
  },
  {
   "cell_type": "code",
   "execution_count": null,
   "metadata": {},
   "outputs": [],
   "source": []
  }
 ],
 "metadata": {
  "kernelspec": {
   "display_name": "Python 3",
   "language": "python",
   "name": "python3"
  },
  "language_info": {
   "codemirror_mode": {
    "name": "ipython",
    "version": 3
   },
   "file_extension": ".py",
   "mimetype": "text/x-python",
   "name": "python",
   "nbconvert_exporter": "python",
   "pygments_lexer": "ipython3",
   "version": "3.8.8"
  }
 },
 "nbformat": 4,
 "nbformat_minor": 4
}
